{
 "cells": [
  {
   "cell_type": "code",
   "execution_count": 5,
   "id": "ca10610e",
   "metadata": {},
   "outputs": [
    {
     "name": "stdout",
     "output_type": "stream",
     "text": [
      "Data loaded and initial merge complete. The 'items' DataFrame is ready:\n"
     ]
    },
    {
     "data": {
      "text/html": [
       "<div>\n",
       "<style scoped>\n",
       "    .dataframe tbody tr th:only-of-type {\n",
       "        vertical-align: middle;\n",
       "    }\n",
       "\n",
       "    .dataframe tbody tr th {\n",
       "        vertical-align: top;\n",
       "    }\n",
       "\n",
       "    .dataframe thead th {\n",
       "        text-align: right;\n",
       "    }\n",
       "</style>\n",
       "<table border=\"1\" class=\"dataframe\">\n",
       "  <thead>\n",
       "    <tr style=\"text-align: right;\">\n",
       "      <th></th>\n",
       "      <th>order_id</th>\n",
       "      <th>order_item_id</th>\n",
       "      <th>product_id</th>\n",
       "      <th>seller_id</th>\n",
       "      <th>shipping_limit_date</th>\n",
       "      <th>price</th>\n",
       "      <th>freight_value</th>\n",
       "      <th>product_category_name</th>\n",
       "      <th>product_category_name_english</th>\n",
       "    </tr>\n",
       "  </thead>\n",
       "  <tbody>\n",
       "    <tr>\n",
       "      <th>0</th>\n",
       "      <td>00010242fe8c5a6d1ba2dd792cb16214</td>\n",
       "      <td>1</td>\n",
       "      <td>4244733e06e7ecb4970a6e2683c13e61</td>\n",
       "      <td>48436dade18ac8b2bce089ec2a041202</td>\n",
       "      <td>2017-09-19 09:45:35</td>\n",
       "      <td>58.90</td>\n",
       "      <td>13.29</td>\n",
       "      <td>cool_stuff</td>\n",
       "      <td>cool_stuff</td>\n",
       "    </tr>\n",
       "    <tr>\n",
       "      <th>1</th>\n",
       "      <td>00018f77f2f0320c557190d7a144bdd3</td>\n",
       "      <td>1</td>\n",
       "      <td>e5f2d52b802189ee658865ca93d83a8f</td>\n",
       "      <td>dd7ddc04e1b6c2c614352b383efe2d36</td>\n",
       "      <td>2017-05-03 11:05:13</td>\n",
       "      <td>239.90</td>\n",
       "      <td>19.93</td>\n",
       "      <td>pet_shop</td>\n",
       "      <td>pet_shop</td>\n",
       "    </tr>\n",
       "    <tr>\n",
       "      <th>2</th>\n",
       "      <td>000229ec398224ef6ca0657da4fc703e</td>\n",
       "      <td>1</td>\n",
       "      <td>c777355d18b72b67abbeef9df44fd0fd</td>\n",
       "      <td>5b51032eddd242adc84c38acab88f23d</td>\n",
       "      <td>2018-01-18 14:48:30</td>\n",
       "      <td>199.00</td>\n",
       "      <td>17.87</td>\n",
       "      <td>moveis_decoracao</td>\n",
       "      <td>furniture_decor</td>\n",
       "    </tr>\n",
       "    <tr>\n",
       "      <th>3</th>\n",
       "      <td>00024acbcdf0a6daa1e931b038114c75</td>\n",
       "      <td>1</td>\n",
       "      <td>7634da152a4610f1595efa32f14722fc</td>\n",
       "      <td>9d7a1d34a5052409006425275ba1c2b4</td>\n",
       "      <td>2018-08-15 10:10:18</td>\n",
       "      <td>12.99</td>\n",
       "      <td>12.79</td>\n",
       "      <td>perfumaria</td>\n",
       "      <td>perfumery</td>\n",
       "    </tr>\n",
       "    <tr>\n",
       "      <th>4</th>\n",
       "      <td>00042b26cf59d7ce69dfabb4e55b4fd9</td>\n",
       "      <td>1</td>\n",
       "      <td>ac6c3623068f30de03045865e4e10089</td>\n",
       "      <td>df560393f3a51e74553ab94004ba5c87</td>\n",
       "      <td>2017-02-13 13:57:51</td>\n",
       "      <td>199.90</td>\n",
       "      <td>18.14</td>\n",
       "      <td>ferramentas_jardim</td>\n",
       "      <td>garden_tools</td>\n",
       "    </tr>\n",
       "  </tbody>\n",
       "</table>\n",
       "</div>"
      ],
      "text/plain": [
       "                           order_id  order_item_id  \\\n",
       "0  00010242fe8c5a6d1ba2dd792cb16214              1   \n",
       "1  00018f77f2f0320c557190d7a144bdd3              1   \n",
       "2  000229ec398224ef6ca0657da4fc703e              1   \n",
       "3  00024acbcdf0a6daa1e931b038114c75              1   \n",
       "4  00042b26cf59d7ce69dfabb4e55b4fd9              1   \n",
       "\n",
       "                         product_id                         seller_id  \\\n",
       "0  4244733e06e7ecb4970a6e2683c13e61  48436dade18ac8b2bce089ec2a041202   \n",
       "1  e5f2d52b802189ee658865ca93d83a8f  dd7ddc04e1b6c2c614352b383efe2d36   \n",
       "2  c777355d18b72b67abbeef9df44fd0fd  5b51032eddd242adc84c38acab88f23d   \n",
       "3  7634da152a4610f1595efa32f14722fc  9d7a1d34a5052409006425275ba1c2b4   \n",
       "4  ac6c3623068f30de03045865e4e10089  df560393f3a51e74553ab94004ba5c87   \n",
       "\n",
       "   shipping_limit_date   price  freight_value product_category_name  \\\n",
       "0  2017-09-19 09:45:35   58.90          13.29            cool_stuff   \n",
       "1  2017-05-03 11:05:13  239.90          19.93              pet_shop   \n",
       "2  2018-01-18 14:48:30  199.00          17.87      moveis_decoracao   \n",
       "3  2018-08-15 10:10:18   12.99          12.79            perfumaria   \n",
       "4  2017-02-13 13:57:51  199.90          18.14    ferramentas_jardim   \n",
       "\n",
       "  product_category_name_english  \n",
       "0                    cool_stuff  \n",
       "1                      pet_shop  \n",
       "2               furniture_decor  \n",
       "3                     perfumery  \n",
       "4                  garden_tools  "
      ]
     },
     "execution_count": 5,
     "metadata": {},
     "output_type": "execute_result"
    }
   ],
   "source": [
    "# Import necessary libraries\n",
    "import pandas as pd\n",
    "import numpy as np\n",
    "\n",
    "# Define the data loading function (adapted from your Streamlit app)\n",
    "def load_data():\n",
    "    \"\"\"Loads all e-commerce datasets from the specified file path.\"\"\"\n",
    "    # Define file paths\n",
    "    path = \"E-commerce/\"\n",
    "    \n",
    "    # Load datasets\n",
    "    # The corrected line\n",
    "    orders = pd.read_csv(\n",
    "        path + \"orders_dataset.csv\", \n",
    "        parse_dates=[\n",
    "            \"order_purchase_timestamp\", \n",
    "            \"order_approved_at\",          # <-- Add this\n",
    "            \"order_delivered_carrier_date\", # <-- Add this\n",
    "            \"order_delivered_customer_date\",\n",
    "            \"order_estimated_delivery_date\"\n",
    "        ]\n",
    "    )\n",
    "    order_items = pd.read_csv(path + \"order_items_dataset.csv\")\n",
    "    products = pd.read_csv(path + \"products_dataset.csv\")\n",
    "    cat_trans = pd.read_csv(path + \"product_category_name_translation.csv\")\n",
    "    customers = pd.read_csv(path + \"customers_dataset.csv\")\n",
    "    payments = pd.read_csv(path + \"order_payments_dataset.csv\")\n",
    "    reviews = pd.read_csv(path + \"order_reviews_dataset.csv\", parse_dates=[\"review_creation_date\", \"review_answer_timestamp\"])\n",
    "    mql = pd.read_csv(path + \"marketing_qualified_leads_dataset.csv\", parse_dates=[\"first_contact_date\"])\n",
    "    deals = pd.read_csv(path + \"closed_deals_dataset.csv\", parse_dates=[\"won_date\"])\n",
    "    geolocation = pd.read_csv(path + \"geolocation_dataset.csv\")\n",
    "    sellers = pd.read_csv(path + \"sellers_dataset.csv\")\n",
    "    \n",
    "    return orders, order_items, products, cat_trans, customers, payments, reviews, mql, deals, geolocation, sellers\n",
    "\n",
    "# --- Load all data into variables ---\n",
    "orders, order_items, products, cat_trans, customers, payments, reviews, mql, deals, geolocation, sellers = load_data()\n",
    "\n",
    "# --- Perform initial merge to create the 'items' DataFrame ---\n",
    "# This is the same merge helper from your app\n",
    "items = order_items.merge(products[[\"product_id\", \"product_category_name\"]], on=\"product_id\", how=\"left\")\n",
    "items = items.merge(cat_trans, on=\"product_category_name\", how=\"left\")\n",
    "\n",
    "# --- Verification Step ---\n",
    "# You can now use all these DataFrames for exploration.\n",
    "# For example, let's display the first few rows of the 'items' DataFrame to confirm it's loaded.\n",
    "print(\"Data loaded and initial merge complete. The 'items' DataFrame is ready:\")\n",
    "items.head()"
   ]
  },
  {
   "cell_type": "code",
   "execution_count": 6,
   "id": "76328124",
   "metadata": {},
   "outputs": [
    {
     "name": "stdout",
     "output_type": "stream",
     "text": [
      "['delivered' 'invoiced' 'shipped' 'processing' 'unavailable' 'canceled'\n",
      " 'created' 'approved']\n"
     ]
    }
   ],
   "source": [
    "# Code to run in your notebook\n",
    "print(orders['order_status'].unique())"
   ]
  },
  {
   "cell_type": "code",
   "execution_count": 7,
   "id": "e0e48547",
   "metadata": {},
   "outputs": [
    {
     "data": {
      "application/vnd.plotly.v1+json": {
       "config": {
        "plotlyServerURL": "https://plot.ly"
       },
       "data": [
        {
         "alignmentgroup": "True",
         "hovertemplate": "Delivery Stage=processing_time<br>Product Category=%{x}<br>Average Duration (Days)=%{y}<extra></extra>",
         "legendgroup": "processing_time",
         "marker": {
          "color": "#636efa",
          "pattern": {
           "shape": ""
          }
         },
         "name": "processing_time",
         "offsetgroup": "processing_time",
         "orientation": "v",
         "showlegend": true,
         "textposition": "auto",
         "type": "bar",
         "x": [
          "auto",
          "bed_bath_table",
          "computers_accessories",
          "cool_stuff",
          "furniture_decor",
          "garden_tools",
          "health_beauty",
          "housewares",
          "sports_leisure",
          "watches_gifts"
         ],
         "xaxis": "x",
         "y": [
          0.42739171281645566,
          0.38841328611777826,
          0.4707313514957265,
          0.43012935922880635,
          0.47122709045411976,
          0.48221598924591164,
          0.4387311047324625,
          0.40135611602724386,
          0.39803543076329534,
          0.4150174584433611
         ],
         "yaxis": "y"
        },
        {
         "alignmentgroup": "True",
         "hovertemplate": "Delivery Stage=seller_handling_time<br>Product Category=%{x}<br>Average Duration (Days)=%{y}<extra></extra>",
         "legendgroup": "seller_handling_time",
         "marker": {
          "color": "#EF553B",
          "pattern": {
           "shape": ""
          }
         },
         "name": "seller_handling_time",
         "offsetgroup": "seller_handling_time",
         "orientation": "v",
         "showlegend": true,
         "textposition": "auto",
         "type": "bar",
         "x": [
          "auto",
          "bed_bath_table",
          "computers_accessories",
          "cool_stuff",
          "furniture_decor",
          "garden_tools",
          "health_beauty",
          "housewares",
          "sports_leisure",
          "watches_gifts"
         ],
         "xaxis": "x",
         "y": [
          2.489707428040514,
          2.771027717419853,
          3.121566987179487,
          2.4527994426592743,
          3.2580558444879895,
          2.619514607817604,
          2.6240528405961725,
          2.662217318298432,
          2.355540265659623,
          2.47304527642359
         ],
         "yaxis": "y"
        },
        {
         "alignmentgroup": "True",
         "hovertemplate": "Delivery Stage=carrier_shipping_time<br>Product Category=%{x}<br>Average Duration (Days)=%{y}<extra></extra>",
         "legendgroup": "carrier_shipping_time",
         "marker": {
          "color": "#00cc96",
          "pattern": {
           "shape": ""
          }
         },
         "name": "carrier_shipping_time",
         "offsetgroup": "carrier_shipping_time",
         "orientation": "v",
         "showlegend": true,
         "textposition": "auto",
         "type": "bar",
         "x": [
          "auto",
          "bed_bath_table",
          "computers_accessories",
          "cool_stuff",
          "furniture_decor",
          "garden_tools",
          "health_beauty",
          "housewares",
          "sports_leisure",
          "watches_gifts"
         ],
         "xaxis": "x",
         "y": [
          9.42220460777563,
          9.872777477250871,
          9.59299357371795,
          9.513685612444739,
          9.37202270412424,
          10.576418466701393,
          9.038422233731756,
          8.046312835338854,
          9.503608876053537,
          9.93684957512357
         ],
         "yaxis": "y"
        }
       ],
       "layout": {
        "barmode": "relative",
        "legend": {
         "title": {
          "text": "Delivery Stage"
         },
         "tracegroupgap": 0
        },
        "template": {
         "data": {
          "bar": [
           {
            "error_x": {
             "color": "#2a3f5f"
            },
            "error_y": {
             "color": "#2a3f5f"
            },
            "marker": {
             "line": {
              "color": "#E5ECF6",
              "width": 0.5
             },
             "pattern": {
              "fillmode": "overlay",
              "size": 10,
              "solidity": 0.2
             }
            },
            "type": "bar"
           }
          ],
          "barpolar": [
           {
            "marker": {
             "line": {
              "color": "#E5ECF6",
              "width": 0.5
             },
             "pattern": {
              "fillmode": "overlay",
              "size": 10,
              "solidity": 0.2
             }
            },
            "type": "barpolar"
           }
          ],
          "carpet": [
           {
            "aaxis": {
             "endlinecolor": "#2a3f5f",
             "gridcolor": "white",
             "linecolor": "white",
             "minorgridcolor": "white",
             "startlinecolor": "#2a3f5f"
            },
            "baxis": {
             "endlinecolor": "#2a3f5f",
             "gridcolor": "white",
             "linecolor": "white",
             "minorgridcolor": "white",
             "startlinecolor": "#2a3f5f"
            },
            "type": "carpet"
           }
          ],
          "choropleth": [
           {
            "colorbar": {
             "outlinewidth": 0,
             "ticks": ""
            },
            "type": "choropleth"
           }
          ],
          "contour": [
           {
            "colorbar": {
             "outlinewidth": 0,
             "ticks": ""
            },
            "colorscale": [
             [
              0,
              "#0d0887"
             ],
             [
              0.1111111111111111,
              "#46039f"
             ],
             [
              0.2222222222222222,
              "#7201a8"
             ],
             [
              0.3333333333333333,
              "#9c179e"
             ],
             [
              0.4444444444444444,
              "#bd3786"
             ],
             [
              0.5555555555555556,
              "#d8576b"
             ],
             [
              0.6666666666666666,
              "#ed7953"
             ],
             [
              0.7777777777777778,
              "#fb9f3a"
             ],
             [
              0.8888888888888888,
              "#fdca26"
             ],
             [
              1,
              "#f0f921"
             ]
            ],
            "type": "contour"
           }
          ],
          "contourcarpet": [
           {
            "colorbar": {
             "outlinewidth": 0,
             "ticks": ""
            },
            "type": "contourcarpet"
           }
          ],
          "heatmap": [
           {
            "colorbar": {
             "outlinewidth": 0,
             "ticks": ""
            },
            "colorscale": [
             [
              0,
              "#0d0887"
             ],
             [
              0.1111111111111111,
              "#46039f"
             ],
             [
              0.2222222222222222,
              "#7201a8"
             ],
             [
              0.3333333333333333,
              "#9c179e"
             ],
             [
              0.4444444444444444,
              "#bd3786"
             ],
             [
              0.5555555555555556,
              "#d8576b"
             ],
             [
              0.6666666666666666,
              "#ed7953"
             ],
             [
              0.7777777777777778,
              "#fb9f3a"
             ],
             [
              0.8888888888888888,
              "#fdca26"
             ],
             [
              1,
              "#f0f921"
             ]
            ],
            "type": "heatmap"
           }
          ],
          "heatmapgl": [
           {
            "colorbar": {
             "outlinewidth": 0,
             "ticks": ""
            },
            "colorscale": [
             [
              0,
              "#0d0887"
             ],
             [
              0.1111111111111111,
              "#46039f"
             ],
             [
              0.2222222222222222,
              "#7201a8"
             ],
             [
              0.3333333333333333,
              "#9c179e"
             ],
             [
              0.4444444444444444,
              "#bd3786"
             ],
             [
              0.5555555555555556,
              "#d8576b"
             ],
             [
              0.6666666666666666,
              "#ed7953"
             ],
             [
              0.7777777777777778,
              "#fb9f3a"
             ],
             [
              0.8888888888888888,
              "#fdca26"
             ],
             [
              1,
              "#f0f921"
             ]
            ],
            "type": "heatmapgl"
           }
          ],
          "histogram": [
           {
            "marker": {
             "pattern": {
              "fillmode": "overlay",
              "size": 10,
              "solidity": 0.2
             }
            },
            "type": "histogram"
           }
          ],
          "histogram2d": [
           {
            "colorbar": {
             "outlinewidth": 0,
             "ticks": ""
            },
            "colorscale": [
             [
              0,
              "#0d0887"
             ],
             [
              0.1111111111111111,
              "#46039f"
             ],
             [
              0.2222222222222222,
              "#7201a8"
             ],
             [
              0.3333333333333333,
              "#9c179e"
             ],
             [
              0.4444444444444444,
              "#bd3786"
             ],
             [
              0.5555555555555556,
              "#d8576b"
             ],
             [
              0.6666666666666666,
              "#ed7953"
             ],
             [
              0.7777777777777778,
              "#fb9f3a"
             ],
             [
              0.8888888888888888,
              "#fdca26"
             ],
             [
              1,
              "#f0f921"
             ]
            ],
            "type": "histogram2d"
           }
          ],
          "histogram2dcontour": [
           {
            "colorbar": {
             "outlinewidth": 0,
             "ticks": ""
            },
            "colorscale": [
             [
              0,
              "#0d0887"
             ],
             [
              0.1111111111111111,
              "#46039f"
             ],
             [
              0.2222222222222222,
              "#7201a8"
             ],
             [
              0.3333333333333333,
              "#9c179e"
             ],
             [
              0.4444444444444444,
              "#bd3786"
             ],
             [
              0.5555555555555556,
              "#d8576b"
             ],
             [
              0.6666666666666666,
              "#ed7953"
             ],
             [
              0.7777777777777778,
              "#fb9f3a"
             ],
             [
              0.8888888888888888,
              "#fdca26"
             ],
             [
              1,
              "#f0f921"
             ]
            ],
            "type": "histogram2dcontour"
           }
          ],
          "mesh3d": [
           {
            "colorbar": {
             "outlinewidth": 0,
             "ticks": ""
            },
            "type": "mesh3d"
           }
          ],
          "parcoords": [
           {
            "line": {
             "colorbar": {
              "outlinewidth": 0,
              "ticks": ""
             }
            },
            "type": "parcoords"
           }
          ],
          "pie": [
           {
            "automargin": true,
            "type": "pie"
           }
          ],
          "scatter": [
           {
            "fillpattern": {
             "fillmode": "overlay",
             "size": 10,
             "solidity": 0.2
            },
            "type": "scatter"
           }
          ],
          "scatter3d": [
           {
            "line": {
             "colorbar": {
              "outlinewidth": 0,
              "ticks": ""
             }
            },
            "marker": {
             "colorbar": {
              "outlinewidth": 0,
              "ticks": ""
             }
            },
            "type": "scatter3d"
           }
          ],
          "scattercarpet": [
           {
            "marker": {
             "colorbar": {
              "outlinewidth": 0,
              "ticks": ""
             }
            },
            "type": "scattercarpet"
           }
          ],
          "scattergeo": [
           {
            "marker": {
             "colorbar": {
              "outlinewidth": 0,
              "ticks": ""
             }
            },
            "type": "scattergeo"
           }
          ],
          "scattergl": [
           {
            "marker": {
             "colorbar": {
              "outlinewidth": 0,
              "ticks": ""
             }
            },
            "type": "scattergl"
           }
          ],
          "scattermapbox": [
           {
            "marker": {
             "colorbar": {
              "outlinewidth": 0,
              "ticks": ""
             }
            },
            "type": "scattermapbox"
           }
          ],
          "scatterpolar": [
           {
            "marker": {
             "colorbar": {
              "outlinewidth": 0,
              "ticks": ""
             }
            },
            "type": "scatterpolar"
           }
          ],
          "scatterpolargl": [
           {
            "marker": {
             "colorbar": {
              "outlinewidth": 0,
              "ticks": ""
             }
            },
            "type": "scatterpolargl"
           }
          ],
          "scatterternary": [
           {
            "marker": {
             "colorbar": {
              "outlinewidth": 0,
              "ticks": ""
             }
            },
            "type": "scatterternary"
           }
          ],
          "surface": [
           {
            "colorbar": {
             "outlinewidth": 0,
             "ticks": ""
            },
            "colorscale": [
             [
              0,
              "#0d0887"
             ],
             [
              0.1111111111111111,
              "#46039f"
             ],
             [
              0.2222222222222222,
              "#7201a8"
             ],
             [
              0.3333333333333333,
              "#9c179e"
             ],
             [
              0.4444444444444444,
              "#bd3786"
             ],
             [
              0.5555555555555556,
              "#d8576b"
             ],
             [
              0.6666666666666666,
              "#ed7953"
             ],
             [
              0.7777777777777778,
              "#fb9f3a"
             ],
             [
              0.8888888888888888,
              "#fdca26"
             ],
             [
              1,
              "#f0f921"
             ]
            ],
            "type": "surface"
           }
          ],
          "table": [
           {
            "cells": {
             "fill": {
              "color": "#EBF0F8"
             },
             "line": {
              "color": "white"
             }
            },
            "header": {
             "fill": {
              "color": "#C8D4E3"
             },
             "line": {
              "color": "white"
             }
            },
            "type": "table"
           }
          ]
         },
         "layout": {
          "annotationdefaults": {
           "arrowcolor": "#2a3f5f",
           "arrowhead": 0,
           "arrowwidth": 1
          },
          "autotypenumbers": "strict",
          "coloraxis": {
           "colorbar": {
            "outlinewidth": 0,
            "ticks": ""
           }
          },
          "colorscale": {
           "diverging": [
            [
             0,
             "#8e0152"
            ],
            [
             0.1,
             "#c51b7d"
            ],
            [
             0.2,
             "#de77ae"
            ],
            [
             0.3,
             "#f1b6da"
            ],
            [
             0.4,
             "#fde0ef"
            ],
            [
             0.5,
             "#f7f7f7"
            ],
            [
             0.6,
             "#e6f5d0"
            ],
            [
             0.7,
             "#b8e186"
            ],
            [
             0.8,
             "#7fbc41"
            ],
            [
             0.9,
             "#4d9221"
            ],
            [
             1,
             "#276419"
            ]
           ],
           "sequential": [
            [
             0,
             "#0d0887"
            ],
            [
             0.1111111111111111,
             "#46039f"
            ],
            [
             0.2222222222222222,
             "#7201a8"
            ],
            [
             0.3333333333333333,
             "#9c179e"
            ],
            [
             0.4444444444444444,
             "#bd3786"
            ],
            [
             0.5555555555555556,
             "#d8576b"
            ],
            [
             0.6666666666666666,
             "#ed7953"
            ],
            [
             0.7777777777777778,
             "#fb9f3a"
            ],
            [
             0.8888888888888888,
             "#fdca26"
            ],
            [
             1,
             "#f0f921"
            ]
           ],
           "sequentialminus": [
            [
             0,
             "#0d0887"
            ],
            [
             0.1111111111111111,
             "#46039f"
            ],
            [
             0.2222222222222222,
             "#7201a8"
            ],
            [
             0.3333333333333333,
             "#9c179e"
            ],
            [
             0.4444444444444444,
             "#bd3786"
            ],
            [
             0.5555555555555556,
             "#d8576b"
            ],
            [
             0.6666666666666666,
             "#ed7953"
            ],
            [
             0.7777777777777778,
             "#fb9f3a"
            ],
            [
             0.8888888888888888,
             "#fdca26"
            ],
            [
             1,
             "#f0f921"
            ]
           ]
          },
          "colorway": [
           "#636efa",
           "#EF553B",
           "#00cc96",
           "#ab63fa",
           "#FFA15A",
           "#19d3f3",
           "#FF6692",
           "#B6E880",
           "#FF97FF",
           "#FECB52"
          ],
          "font": {
           "color": "#2a3f5f"
          },
          "geo": {
           "bgcolor": "white",
           "lakecolor": "white",
           "landcolor": "#E5ECF6",
           "showlakes": true,
           "showland": true,
           "subunitcolor": "white"
          },
          "hoverlabel": {
           "align": "left"
          },
          "hovermode": "closest",
          "mapbox": {
           "style": "light"
          },
          "paper_bgcolor": "white",
          "plot_bgcolor": "#E5ECF6",
          "polar": {
           "angularaxis": {
            "gridcolor": "white",
            "linecolor": "white",
            "ticks": ""
           },
           "bgcolor": "#E5ECF6",
           "radialaxis": {
            "gridcolor": "white",
            "linecolor": "white",
            "ticks": ""
           }
          },
          "scene": {
           "xaxis": {
            "backgroundcolor": "#E5ECF6",
            "gridcolor": "white",
            "gridwidth": 2,
            "linecolor": "white",
            "showbackground": true,
            "ticks": "",
            "zerolinecolor": "white"
           },
           "yaxis": {
            "backgroundcolor": "#E5ECF6",
            "gridcolor": "white",
            "gridwidth": 2,
            "linecolor": "white",
            "showbackground": true,
            "ticks": "",
            "zerolinecolor": "white"
           },
           "zaxis": {
            "backgroundcolor": "#E5ECF6",
            "gridcolor": "white",
            "gridwidth": 2,
            "linecolor": "white",
            "showbackground": true,
            "ticks": "",
            "zerolinecolor": "white"
           }
          },
          "shapedefaults": {
           "line": {
            "color": "#2a3f5f"
           }
          },
          "ternary": {
           "aaxis": {
            "gridcolor": "white",
            "linecolor": "white",
            "ticks": ""
           },
           "baxis": {
            "gridcolor": "white",
            "linecolor": "white",
            "ticks": ""
           },
           "bgcolor": "#E5ECF6",
           "caxis": {
            "gridcolor": "white",
            "linecolor": "white",
            "ticks": ""
           }
          },
          "title": {
           "x": 0.05
          },
          "xaxis": {
           "automargin": true,
           "gridcolor": "white",
           "linecolor": "white",
           "ticks": "",
           "title": {
            "standoff": 15
           },
           "zerolinecolor": "white",
           "zerolinewidth": 2
          },
          "yaxis": {
           "automargin": true,
           "gridcolor": "white",
           "linecolor": "white",
           "ticks": "",
           "title": {
            "standoff": 15
           },
           "zerolinecolor": "white",
           "zerolinewidth": 2
          }
         }
        },
        "title": {
         "text": "Average Delivery Stage Duration by Product Category (Top 10)"
        },
        "xaxis": {
         "anchor": "y",
         "domain": [
          0,
          1
         ],
         "title": {
          "text": "Product Category"
         }
        },
        "yaxis": {
         "anchor": "x",
         "domain": [
          0,
          1
         ],
         "title": {
          "text": "Average Duration (Days)"
         }
        }
       }
      }
     },
     "metadata": {},
     "output_type": "display_data"
    }
   ],
   "source": [
    "# --- 1. Filter for relevant orders and calculate stage durations ---\n",
    "# Ensure all timestamps needed are present\n",
    "completed_orders = orders[\n",
    "    orders['order_status'] == 'delivered'\n",
    "].dropna(subset=[\n",
    "    'order_purchase_timestamp', \n",
    "    'order_approved_at', \n",
    "    'order_delivered_carrier_date', \n",
    "    'order_delivered_customer_date'\n",
    "])\n",
    "\n",
    "# Calculate durations in days\n",
    "# Using .dt.total_seconds() / (24 * 3600) is more precise for timedelta\n",
    "completed_orders['processing_time'] = (completed_orders['order_approved_at'] - completed_orders['order_purchase_timestamp']).dt.total_seconds() / (24 * 3600)\n",
    "completed_orders['seller_handling_time'] = (completed_orders['order_delivered_carrier_date'] - completed_orders['order_approved_at']).dt.total_seconds() / (24 * 3600)\n",
    "completed_orders['carrier_shipping_time'] = (completed_orders['order_delivered_customer_date'] - completed_orders['order_delivered_carrier_date']).dt.total_seconds() / (24 * 3600)\n",
    "\n",
    "# --- 2. Merge with product category information ---\n",
    "# We use the 'items' helper DataFrame you already created\n",
    "order_stage_times = completed_orders.merge(items[['order_id', 'product_category_name_english']], on='order_id', how='left')\n",
    "\n",
    "# Drop orders that might have multiple different item categories to keep the analysis simple\n",
    "order_stage_times = order_stage_times.drop_duplicates(subset=['order_id'])\n",
    "\n",
    "\n",
    "# --- 3. Aggregate to find average times per category ---\n",
    "# Focusing on the top 10 categories by revenue for clarity\n",
    "top_10_cats = items.groupby('product_category_name_english')['price'].sum().nlargest(10).index\n",
    "\n",
    "# Filter for top 10 categories\n",
    "avg_times_by_cat = order_stage_times[\n",
    "    order_stage_times['product_category_name_english'].isin(top_10_cats)\n",
    "].groupby('product_category_name_english').agg({\n",
    "    'processing_time': 'mean',\n",
    "    'seller_handling_time': 'mean',\n",
    "    'carrier_shipping_time': 'mean'\n",
    "}).reset_index()\n",
    "\n",
    "\n",
    "# --- 4. Prepare data for plotting and visualize ---\n",
    "# 'Melt' the DataFrame to make it suitable for Plotly Express\n",
    "avg_times_melted = avg_times_by_cat.melt(\n",
    "    id_vars='product_category_name_english',\n",
    "    value_vars=['processing_time', 'seller_handling_time', 'carrier_shipping_time'],\n",
    "    var_name='delivery_stage',\n",
    "    value_name='average_days'\n",
    ")\n",
    "\n",
    "# Create the stacked bar chart\n",
    "import plotly.express as px\n",
    "\n",
    "fig = px.bar(\n",
    "    avg_times_melted,\n",
    "    x='product_category_name_english',\n",
    "    y='average_days',\n",
    "    color='delivery_stage',\n",
    "    title='Average Delivery Stage Duration by Product Category (Top 10)',\n",
    "    labels={\n",
    "        'product_category_name_english': 'Product Category',\n",
    "        'average_days': 'Average Duration (Days)',\n",
    "        'delivery_stage': 'Delivery Stage'\n",
    "    },\n",
    "    category_orders={ # Sort the stages logically\n",
    "        'delivery_stage': ['processing_time', 'seller_handling_time', 'carrier_shipping_time']\n",
    "    }\n",
    ")\n",
    "\n",
    "fig.show()"
   ]
  },
  {
   "cell_type": "code",
   "execution_count": null,
   "id": "ed30d231",
   "metadata": {},
   "outputs": [
    {
     "name": "stdout",
     "output_type": "stream",
     "text": [
      "There are 73 unique city names in the geolocation table.\n",
      "\n",
      "Sample of city names:\n",
      "['sao paulo' 'são paulo' 'sao bernardo do campo' 'jundiaí'\n",
      " 'taboão da serra' 'sãopaulo' 'sp' 'sa£o paulo' 'sao jose dos campos'\n",
      " 'osasco' 'carapicuíba' 'carapicuiba' 'barueri' 'santana de parnaiba'\n",
      " 'pirapora do bom jesus']\n"
     ]
    }
   ],
   "source": [
    "# To get the total count of unique cities\n",
    "city_count = geolocation['geolocation_state'].nunique()\n",
    "print(f\"There are {city_count} unique city names in the geolocation table.\")\n",
    "\n",
    "# To list the first 15 unique city names as an example\n",
    "print(\"\\nSample of city names:\")\n",
    "print(geolocation['geolocation_city'].unique()[:15])"
   ]
  },
  {
   "cell_type": "code",
   "execution_count": null,
   "id": "737b8f26",
   "metadata": {},
   "outputs": [
    {
     "name": "stdout",
     "output_type": "stream",
     "text": [
      "--- Starting Category Debugging Process ---\n",
      "\n",
      "[1/4] Loading reviews from 'E-commerce/order_reviews_dataset.csv'...\n",
      "\n",
      "[2/4] Filtering for negative reviews with comments...\n",
      "\n",
      "[3/4] Categorizing reviews...\n",
      "\n",
      "[4/4] Generating samples for each category...\n",
      "\n",
      "--- SAMPLE REVIEWS PER CATEGORY ---\n",
      "\n",
      "====================\n",
      "CATEGORY: Bad Product Quality / Defective\n",
      "====================\n",
      "1. Produto c defeito, tentei por várias vezes, mas foi muitas, devolver o produto abrindo chamado na lannister e não consegui.\n",
      "2. Recebi o produto, dentro do prazo, mas avalio de baixa qualidade. É necessário MUITO cuidado no manuseio, pois o material é muito frágil. No site não é possível fazer comparação da qualidade.\n",
      "3. O PRODUTO CHEGOU ANTES DO PRAZO, POREM COM DEFEITO. LIGA, MÁS NÃO EXERCE SUA FUNÇÕES, ATRIBUO SUPOSTAMENTE O DEFEITO A MÁ QUALIDADE NO EMBALAMENTO, POIS CAIXA CHEGOU BASTANTE AMASSADA. \n",
      "4. Comprei um conjunto de pinças para alongamento de Cílios que me deixou extremamente insatisfeita! Logo que peguei nas mãos vi a péssima qualidade, cheio de defeitos nas pontas das pinças.\n",
      "5. O brinquedo veio com defeito,a dificuldade em trocar está pq minha filha chora quando proponho para ela esperar uma semana pelo outro.\n",
      "6. Relógio com Defeito\n",
      "7. Gostei mas veio com a mola de apoio das folhas quebrada de resto está perfeita \n",
      "8. O botão liga o aparelho porém não desliga. Tem que tirar da tomada para desligar. Ou seja veio com defeito.\n",
      "9. Produto com defeito\n",
      "10. O material chegou antes do prazo, mas das três peças que comprei, uma delas estava com a alça(cabo) quebrado.\n",
      "\n",
      "====================\n",
      "CATEGORY: Different from Expectations\n",
      "====================\n",
      "1. as toalhas são ásperas e fininhas. Bela propaganda enganosa\n",
      "2. O produto não corresponde ao que eu comprei, a película é muito menor que a tela do celular e não cobre toda a tela.\n",
      "3. Comprei 3 unidades do produto vieram 2 unidades que não corresponde com o que comprei. Devido a minha opinião é negativa com relação a esse vendedor pois não não cumpriu com o prometido na venda.\n",
      "4. Comprei 3 unidades do produto vieram 2 unidades que não corresponde com o que comprei. Devido a minha opinião é negativa com relação a esse vendedor pois não não cumpriu com o prometido na venda.\n",
      "5. NOTA FISCAL E MERCADORIA NÃO CORRESPONDE AO PRODUTO DO PEDIDO\n",
      "6. Não fiquei satisfeita; propaganda enganosa pois, disseram que era luminoso e na verdade NÃO É.E agora? Eu preciso que seja luminoso à noite lógico para aplicação de remédios tipo insulina,Vainia Lúcia\n",
      "7. Boa noite!\n",
      "Já solicitei a troca do produto por propaganda enganosa pois a foto do site e da embalagem não correspondem com o produto que estava dentro da embalagem! Cortina horrível!\n",
      "8. As medidas não correspondem às descritas na informação do produto. Tendo 2cm a menos na largura e comprimento. \n",
      " Quanto aos puleiros externo não tem um encaixe adequado dificultando a fixação. \n",
      "9. Pedi uma lancheira e não veio, propaganda enganosa.\n",
      "10. Produto muito bom. Porém o sistema não corresponde com o produto.\n",
      "\n",
      "Ex: falar sobre nota fiscal \n",
      "\n",
      "====================\n",
      "CATEGORY: Late Delivery\n",
      "====================\n",
      "1. Demorou muito pra chegar....\n",
      "2. Demora entrega\n",
      "3. Já realizei compras nesse site e nunca demorou tanto para entregarem um produto.\n",
      "4. Muita demora.\n",
      "5. Não é possível tanta falta de atenção uma demora tremenda para receber o produto pra quando chegar vim errado e agora o q faço ???\n",
      "6. A entrega foi demorada mas dentro do prazo.\n",
      "Mas a mochila não é o eu esperava,por ser de marca eu achei muito simples , não gostei nem um pouco do produto.\n",
      "7. Foi a segunda vez comprando o mesmo produto, sendo que na primeira o produto foi extraviado pelos correios e na segunda houve problemas com erro de informação no rastreio.\n",
      "8. A entrega atrasou, mas penso que foi por culpa dos Correios... Não sei....\n",
      "9. Estou responsabilizando as Lojas lannister pelo atraso, porque não comprei da targaryen, e sim das Lojas lannister. Aguardo providências das Lojas lannister para resolver o problema. do atraso.\n",
      "10. Atraso na entrega(a qual já possuía um prazo mais do que suficiente), logo não consigo avaliá-lo positivamente, muito menos opinar a favor da transportadora.\n",
      "\n",
      "====================\n",
      "CATEGORY: Missing Items / Partial Delivery\n",
      "====================\n",
      "1. Na entrega veio faltando os dois assento futon que eu comprei fora do kit.\n",
      "Ou seja só entregaram os kits. Continuo aguardando o contato de vocês. \n",
      "2. ESTA FALTANDO O JOGO DA ROUPA DE CAMA POIS SO RECEBIAS DUAS FRONHAS AVULSAS, ONDE ESTA O RESTANTE DOE MINHA COMPRA?\n",
      "3. Foi horrível a minha experiência. Comprei e me entregaram faltando um produto, o único que foi, estava violando, derramando o líquido. \n",
      "4. Faltou o protetor de colchao\n",
      "5. comprei a cortina so que veio faltando o varão na especificação viria o varão so que não veio, então fui enganado não recomendaria esse vendedor. \n",
      "6. Comprei 2 mini bike e só recebi uma, aguardo retorno.\n",
      "7. Meu primeiro pedido e veio faltando 1 item, que recebi depois de 1 semana. Compro em outros sites e achei o frete de vcs caro. Posso recomendar loja, mas vou pensar melhor antes de fazer outra compra\n",
      "8. Só recebi uma manta. Espero receber a outra.\n",
      "9. Faltou outro kit ja que comprei 2\n",
      "10.  a targaryen apenas me entregou um dos produtos ficando o outro sem entrega ... o que está faltando é relogio feminino corrente dourada casual ... gostaria de saber o que está acontecendo e porque a Amer\n",
      "\n",
      "====================\n",
      "CATEGORY: Other\n",
      "====================\n",
      "1. Estou usando o produto ainda. Não tem como falar se é bom ou não. \n",
      "2. Realizei a compra de um Toner Original CE320A HP 128A Preto, e mesmo assim está apresentando problemas na impressão. O toner está borrando a página. Muito caro e pouca qualidade.Vou solicitar garantia\n",
      "3. Recebi o produto, mas com a cor incorreta da q pedi na hora da compra. Comprei cinza, recebi azul marinho.\n",
      "4. Um dos produtos que foi solicitado nao foi entregue!\n",
      "A solicitação feita foi: oculos e o controle, apenas entregaram o controle!\n",
      "Aguardo resposta\n",
      "5. O produto veio ruim \n",
      "6. aguardo solucionar a entrega errada\n",
      "7. A cinta térmica quando ligou na tomada começou a derreter e começou a queimar a pessoa que usou \n",
      "8. não chegou a creatina nem um dos wheys que eu pedi\n",
      "9. Comprei uma maleta modelo Paris e veio uma maleta de um modelo diferente, comum que posso comprar em qualquer loja. Se pudesse não daria nenhuma estrela. Desrespeito.\n",
      "10. Quanto ao comedouro a empresa está de parabéns; muito bom e satisfatório. Quanto ao Benedouro; em poucas palavras, para mim nao delongar muito: \"UM LIXO\" de equipamento. \n",
      "\n",
      "====================\n",
      "CATEGORY: Poor Customer Service\n",
      "====================\n",
      "1. Cobraram o Frete e tive que retirar nos correios, ao chegar a entrega estava incompleta!!! Não comprem porque o pós venda não existe pelo jeito!!!\n",
      "2. recebi o produto errado ja fiz reclamaçao e nao fui atendida pelo contrario a funcionaria ANDRESSA dava risada da minha cara por telefone PESSIMO ATENDIMENTO E COMPLETAMENTE INSATISFEITA\n",
      "3. veio conforme o pedido mais o pós venda não respondeu nenhuma das minhas perguntas\n",
      "4. Até o momento não te hoje informação do produto e TB sem resposta dos e-mails que passri\n",
      "5. Pessimo atendimento, sem canal de reclamação \n",
      "fornecedor \n",
      "6. O produto não foi entregue fiquei um tempo longo sem resposta, não conseguia rastrear o produto, após o prazo foi que me enviaram um email dizendo que a compra tinha sido cancelado sem me comunicar.\n",
      "7. Não é original, infelizmente o pós vendas da stark é extremamente ruim, pois já entrei em contato e até agora nada, aí consegui ligar para o fornecedor parceiro que já devolveu o dinheiro.\n",
      "8. Estou aguardando o envio do produto há mais de um mês. Sem resposta da loja \n",
      "9. Foi comprado 2 unidades e só veio uma, mandei 4 email pro vendedor e até agora sem resposta\n",
      "10. Dos 7 produtos que comprei recebemos apenas 1 mandei mensagem mas até agora sem resposta\n",
      "\n",
      "====================\n",
      "CATEGORY: Product Not Received\n",
      "====================\n",
      "1. Meu produto nunca chegou. Péssimo. Revoltada.\n",
      "2. Aré a presente data não recebi a mercadoria, o que me surpreendeu , uma vez que a lannister.com sempre cumpre os prazos. Em alguns produtos houve até antecipação .\n",
      "3. Não recebi o meu produto e nem fui avisada da falta do item na loja.Quando entrei em contato,quase 1 mês depois,é que fiquei sabendo que o produto não seria entregue pois não havia mais em estoque. \n",
      "4. Não recebi o produto, vou querer receber o dinheiro de volta\n",
      "5. Realizei a compra em 30/07 e até agora não recebi o produto.\n",
      "6. Não recebi o produto, e o estorno no cartão só foi feito dois meses depois.\n",
      "7. Recebi apenas 2 pendentes falta o restante com uma vendedora eu consegui falar e ela ja enviou os outros 4 pendentes, ja os amarelos ainda não recebi nenhum estou aguardando faltam os 5 amarelos...\n",
      "8. Até o momento não recebi o produto. Aguardando.\n",
      "9. não recebi meu produto e não obtive nenhuma resposta ainda\n",
      "10. De acordo com meus pedidos Ainda não recebi as Toalhas de Jogo De Banho Florença Bordado 5 Peças 100% Algodão Branco, recebi apenas Kit Jogo De Cama Florença Queen Com Toalhas De Banho 9 Peças\n",
      "\n",
      "====================\n",
      "CATEGORY: Return & Refund Issues\n",
      "====================\n",
      "1. CAROS,\n",
      "\n",
      "Solicitei o cancelamento deste pedido no mesmo dia em que a Nota Fiscal foi emitida. Liguei no fornecedor informado na NF e cancelei o envio da mercadoria. Aguardo forma de estorno Americana\n",
      "2. o produto não estás sendo reconhecido pela impressora , ou seja não consegui usar o produto e solicitei a devolução.\n",
      "3. Eu escolhi o conjunto safari dourado e veio branco! Não gostei é quero trocar.\n",
      "4. Vou mandar o produto de volta. Estou esperando o andamento da solicitação de devolução que fiz à stark.\n",
      "5. preciso trocar pois pedi Benjamin e veio Valentina\n",
      "6. O produto não funciona por erro no envio dos itens que compõem o aparelho e não retornam para auxiliar na devolução do produto.\n",
      "7. Sendo um produto de cerâmica, é frágil. Ao desembalar, já apresentava sinal de batida e trincas. Pedi devolução e estou aguardando contato. Necessário, além do plástico bolha, espuma na embalagem.\n",
      "8. Comprei dois transformadores e recebi apenas um, não confirmo o recebimento! Quero meu dinheiro de volta! Não recomendo a loja pra ninguém! Cuidado!\n",
      "9. Permitiu concluir a compra, mas não tinha o produto em estoque. Maior canseira para receber o dinheiro de volta.\n",
      "10. O produto foi entregue no prazo porém veio incorreto. Entrei em contato e eles vão providenciar a troca.\n",
      "\n",
      "====================\n",
      "CATEGORY: Wrong Item Sent\n",
      "====================\n",
      "1. O pedido veio errado. Está a maior burocracia p trocar. Eles jogam p lannister' e a lannister' diz que eu tenho que resolver com eles. -.-' \n",
      "2. Meu produto veio errado. Outra estamos. Fiz contato no dia do recebimento dia 24 para devolução e até agora nda...estou aguardando ainda...\n",
      "3. COMPREI UM PRODUTO E VEIO OUTRO.\n",
      "4. Comprei uma marca e veio outro bem inferior. Já pedi p devolver. Estou aguardando.\n",
      "5. Dos 2 produtos adquiridos só um foi entregue já que um veio errado, falta mais atenção na hora de empacotamento dos produtos\n",
      "6. A data prevista era o dia 5/1/2018. Recebi o produto no dia 11/01/2018 que veio errado. Pois comprei dois espremedores e recebi apenas, um já reclamei no mesmo dia da entrega e não obtive retorno.\n",
      "7. Recebi o littman de cor errada\n",
      "8. Produto de boa qualidade, porém, comprei para o modelo errado do g5. \n",
      "9. Paguei caro pelo frete e n foram entregues na minha casa.tive q pegar no correios e só veio uma e mesmo assim o modelo errado. Já enviei 2 e-mail espero o contato pq quero a devolução do meu dinheiro.\n",
      "10. Comprei uma película de vidro temperado, porém a película veio errado. Estou aguardando a resposta da lannister. Assim que resolver meu problema eu avalio a empresa. \n",
      "\n",
      "--- Process Finished ---\n"
     ]
    }
   ],
   "source": [
    "import pandas as pd\n",
    "\n",
    "# --- Configuration ---\n",
    "REVIEWS_FILE_PATH = \"E-commerce/order_reviews_dataset.csv\"\n",
    "\n",
    "complaint_keywords = {\n",
    "    # Focuses only on specific terms for lateness.\n",
    "    \"Late Delivery\": [\n",
    "        \"atraso\", \"atrasado\", \"demorou\", \"demora\", \"lento\", \"extraviado\"\n",
    "    ],\n",
    "    # Uses very specific phrases for non-receipt.\n",
    "    \"Product Not Received\": [\n",
    "        \"não recebi\", \"nao recebi\", \"não entregue\", \"nao entregue\", \"nunca chegou\", \"consta como entregue\", \"caixa vazia\"\n",
    "    ],\n",
    "    # Focuses on words describing a broken or non-functional product.\n",
    "    \"Bad Product Quality / Defective\": [\n",
    "        \"defeito\", \"quebrado\", \"quebrada\", \"nao funciona\", \"avariado\", \"estragado\", \"falso\", \"mal acabado\", \"baixa qualidade\"\n",
    "    ],\n",
    "    # Uses phrases that clearly indicate the wrong item was sent.\n",
    "    \"Wrong Item Sent\": [\n",
    "        \"veio errado\", \"item errado\", \"cor errada\", \"modelo errado\", \"veio outro\", \"produto trocado\"\n",
    "    ],\n",
    "    # Focuses on words related to quantity and incomplete orders.\n",
    "    \"Missing Items / Partial Delivery\": [\n",
    "        \"faltando\", \"incompleto\", \"só recebi um\", \"parcial\", \"faltou\", \"recebi a menos\"\n",
    "    ],\n",
    "    # Uses keywords specific to the return/refund process.\n",
    "    \"Return & Refund Issues\": [\n",
    "        \"devolver\", \"devolução\", \"troca\", \"dinheiro de volta\", \"cancelar\", \"reembolso\", \"estorno\"\n",
    "    ],\n",
    "    # Focuses on complaints about the seller or lack of communication.\n",
    "    \"Poor Customer Service\": [\n",
    "        \"sem resposta\", \"ninguem responde\", \"pessimo atendimento\", \"pós venda\", \"mau vendedor\"\n",
    "    ],\n",
    "    # Focuses on the description/advertisement vs. the real product.\n",
    "    \"Different from Expectations\": [\n",
    "        \"propaganda enganosa\", \"nao e como na foto\", \"descrição errada\", \"não corresponde\"\n",
    "    ]\n",
    "}\n",
    "\n",
    "# The categorization function\n",
    "def categorize_complaint(comment):\n",
    "    if not isinstance(comment, str):\n",
    "        return \"Other\"\n",
    "    \n",
    "    comment_lower = comment.lower()\n",
    "    scores = {category: 0 for category in complaint_keywords}\n",
    "    \n",
    "    for category, keywords in complaint_keywords.items():\n",
    "        for keyword in keywords:\n",
    "            if keyword in comment_lower:\n",
    "                scores[category] += 1\n",
    "    \n",
    "    max_score = max(scores.values())\n",
    "    \n",
    "    if max_score == 0:\n",
    "        return \"Other\"\n",
    "    \n",
    "    # Find all categories that have the max score\n",
    "    best_categories = [category for category, score in scores.items() if score == max_score]\n",
    "    \n",
    "    # Return the first one in case of a tie\n",
    "    return best_categories[0]\n",
    "\n",
    "# --- Main Script ---\n",
    "if __name__ == \"__main__\":\n",
    "    print(\"--- Starting Category Debugging Process ---\")\n",
    "    \n",
    "    print(f\"\\n[1/4] Loading reviews from '{REVIEWS_FILE_PATH}'...\")\n",
    "    reviews_df = pd.read_csv(REVIEWS_FILE_PATH)\n",
    "    \n",
    "    print(\"\\n[2/4] Filtering for negative reviews with comments...\")\n",
    "    negative_reviews = reviews_df[reviews_df['review_score'] <= 3].dropna(subset=['review_comment_message']).copy()\n",
    "    \n",
    "    print(\"\\n[3/4] Categorizing reviews...\")\n",
    "    negative_reviews['complaint_category'] = negative_reviews['review_comment_message'].apply(categorize_complaint)\n",
    "    \n",
    "    print(\"\\n[4/4] Generating samples for each category...\")\n",
    "    \n",
    "    # Get all categories that were assigned, including 'Other'\n",
    "    all_categories = negative_reviews['complaint_category'].unique()\n",
    "    \n",
    "    print(\"\\n--- SAMPLE REVIEWS PER CATEGORY ---\")\n",
    "    \n",
    "    for category in sorted(all_categories):\n",
    "        print(\"\\n\" + \"=\"*20)\n",
    "        print(f\"CATEGORY: {category}\")\n",
    "        print(\"=\"*20)\n",
    "        \n",
    "        category_df = negative_reviews[negative_reviews['complaint_category'] == category]\n",
    "        \n",
    "        # Determine the sample size (up to 10)\n",
    "        sample_size = min(10, len(category_df))\n",
    "        \n",
    "        # Get a random sample of comments\n",
    "        sample_comments = category_df['review_comment_message'].sample(n=sample_size, random_state=42).tolist()\n",
    "        \n",
    "        # Print the numbered list of samples\n",
    "        for i, comment in enumerate(sample_comments, 1):\n",
    "            print(f\"{i}. {comment}\")\n",
    "            \n",
    "    print(\"\\n--- Process Finished ---\")"
   ]
  },
  {
   "cell_type": "code",
   "execution_count": 6,
   "id": "c7821396",
   "metadata": {},
   "outputs": [
    {
     "name": "stdout",
     "output_type": "stream",
     "text": [
      "Preparing master data file for analysis...\n",
      "Data preparation complete.\n",
      "Analyzing: Freight Value vs. Review Score...\n"
     ]
    },
    {
     "name": "stderr",
     "output_type": "stream",
     "text": [
      "C:\\Users\\LENOVO\\AppData\\Local\\Temp\\ipykernel_11404\\647972712.py:38: FutureWarning:\n",
      "\n",
      "The default of observed=False is deprecated and will be changed to True in a future version of pandas. Pass observed=False to retain current behavior or observed=True to adopt the future default and silence this warning.\n",
      "\n"
     ]
    },
    {
     "data": {
      "application/vnd.plotly.v1+json": {
       "config": {
        "plotlyServerURL": "https://plot.ly"
       },
       "data": [
        {
         "alignmentgroup": "True",
         "hovertemplate": "Freight Value (R$)=%{x}<br>Average Review Score=%{y}<extra></extra>",
         "legendgroup": "",
         "marker": {
          "color": "#636efa",
          "pattern": {
           "shape": ""
          }
         },
         "name": "",
         "offsetgroup": "",
         "orientation": "v",
         "showlegend": false,
         "textposition": "auto",
         "texttemplate": "%{y:.2f}",
         "type": "bar",
         "x": [
          "0-10",
          "10-20",
          "20-30",
          "30-40",
          "40-50",
          "50+"
         ],
         "xaxis": "x",
         "y": [
          4.301022270901789,
          4.167543590137491,
          4.069266694971796,
          3.8584943371085942,
          3.8529498962348057,
          3.7835998100364097
         ],
         "yaxis": "y"
        }
       ],
       "layout": {
        "barmode": "relative",
        "legend": {
         "tracegroupgap": 0
        },
        "template": {
         "data": {
          "bar": [
           {
            "error_x": {
             "color": "#2a3f5f"
            },
            "error_y": {
             "color": "#2a3f5f"
            },
            "marker": {
             "line": {
              "color": "#E5ECF6",
              "width": 0.5
             },
             "pattern": {
              "fillmode": "overlay",
              "size": 10,
              "solidity": 0.2
             }
            },
            "type": "bar"
           }
          ],
          "barpolar": [
           {
            "marker": {
             "line": {
              "color": "#E5ECF6",
              "width": 0.5
             },
             "pattern": {
              "fillmode": "overlay",
              "size": 10,
              "solidity": 0.2
             }
            },
            "type": "barpolar"
           }
          ],
          "carpet": [
           {
            "aaxis": {
             "endlinecolor": "#2a3f5f",
             "gridcolor": "white",
             "linecolor": "white",
             "minorgridcolor": "white",
             "startlinecolor": "#2a3f5f"
            },
            "baxis": {
             "endlinecolor": "#2a3f5f",
             "gridcolor": "white",
             "linecolor": "white",
             "minorgridcolor": "white",
             "startlinecolor": "#2a3f5f"
            },
            "type": "carpet"
           }
          ],
          "choropleth": [
           {
            "colorbar": {
             "outlinewidth": 0,
             "ticks": ""
            },
            "type": "choropleth"
           }
          ],
          "contour": [
           {
            "colorbar": {
             "outlinewidth": 0,
             "ticks": ""
            },
            "colorscale": [
             [
              0,
              "#0d0887"
             ],
             [
              0.1111111111111111,
              "#46039f"
             ],
             [
              0.2222222222222222,
              "#7201a8"
             ],
             [
              0.3333333333333333,
              "#9c179e"
             ],
             [
              0.4444444444444444,
              "#bd3786"
             ],
             [
              0.5555555555555556,
              "#d8576b"
             ],
             [
              0.6666666666666666,
              "#ed7953"
             ],
             [
              0.7777777777777778,
              "#fb9f3a"
             ],
             [
              0.8888888888888888,
              "#fdca26"
             ],
             [
              1,
              "#f0f921"
             ]
            ],
            "type": "contour"
           }
          ],
          "contourcarpet": [
           {
            "colorbar": {
             "outlinewidth": 0,
             "ticks": ""
            },
            "type": "contourcarpet"
           }
          ],
          "heatmap": [
           {
            "colorbar": {
             "outlinewidth": 0,
             "ticks": ""
            },
            "colorscale": [
             [
              0,
              "#0d0887"
             ],
             [
              0.1111111111111111,
              "#46039f"
             ],
             [
              0.2222222222222222,
              "#7201a8"
             ],
             [
              0.3333333333333333,
              "#9c179e"
             ],
             [
              0.4444444444444444,
              "#bd3786"
             ],
             [
              0.5555555555555556,
              "#d8576b"
             ],
             [
              0.6666666666666666,
              "#ed7953"
             ],
             [
              0.7777777777777778,
              "#fb9f3a"
             ],
             [
              0.8888888888888888,
              "#fdca26"
             ],
             [
              1,
              "#f0f921"
             ]
            ],
            "type": "heatmap"
           }
          ],
          "heatmapgl": [
           {
            "colorbar": {
             "outlinewidth": 0,
             "ticks": ""
            },
            "colorscale": [
             [
              0,
              "#0d0887"
             ],
             [
              0.1111111111111111,
              "#46039f"
             ],
             [
              0.2222222222222222,
              "#7201a8"
             ],
             [
              0.3333333333333333,
              "#9c179e"
             ],
             [
              0.4444444444444444,
              "#bd3786"
             ],
             [
              0.5555555555555556,
              "#d8576b"
             ],
             [
              0.6666666666666666,
              "#ed7953"
             ],
             [
              0.7777777777777778,
              "#fb9f3a"
             ],
             [
              0.8888888888888888,
              "#fdca26"
             ],
             [
              1,
              "#f0f921"
             ]
            ],
            "type": "heatmapgl"
           }
          ],
          "histogram": [
           {
            "marker": {
             "pattern": {
              "fillmode": "overlay",
              "size": 10,
              "solidity": 0.2
             }
            },
            "type": "histogram"
           }
          ],
          "histogram2d": [
           {
            "colorbar": {
             "outlinewidth": 0,
             "ticks": ""
            },
            "colorscale": [
             [
              0,
              "#0d0887"
             ],
             [
              0.1111111111111111,
              "#46039f"
             ],
             [
              0.2222222222222222,
              "#7201a8"
             ],
             [
              0.3333333333333333,
              "#9c179e"
             ],
             [
              0.4444444444444444,
              "#bd3786"
             ],
             [
              0.5555555555555556,
              "#d8576b"
             ],
             [
              0.6666666666666666,
              "#ed7953"
             ],
             [
              0.7777777777777778,
              "#fb9f3a"
             ],
             [
              0.8888888888888888,
              "#fdca26"
             ],
             [
              1,
              "#f0f921"
             ]
            ],
            "type": "histogram2d"
           }
          ],
          "histogram2dcontour": [
           {
            "colorbar": {
             "outlinewidth": 0,
             "ticks": ""
            },
            "colorscale": [
             [
              0,
              "#0d0887"
             ],
             [
              0.1111111111111111,
              "#46039f"
             ],
             [
              0.2222222222222222,
              "#7201a8"
             ],
             [
              0.3333333333333333,
              "#9c179e"
             ],
             [
              0.4444444444444444,
              "#bd3786"
             ],
             [
              0.5555555555555556,
              "#d8576b"
             ],
             [
              0.6666666666666666,
              "#ed7953"
             ],
             [
              0.7777777777777778,
              "#fb9f3a"
             ],
             [
              0.8888888888888888,
              "#fdca26"
             ],
             [
              1,
              "#f0f921"
             ]
            ],
            "type": "histogram2dcontour"
           }
          ],
          "mesh3d": [
           {
            "colorbar": {
             "outlinewidth": 0,
             "ticks": ""
            },
            "type": "mesh3d"
           }
          ],
          "parcoords": [
           {
            "line": {
             "colorbar": {
              "outlinewidth": 0,
              "ticks": ""
             }
            },
            "type": "parcoords"
           }
          ],
          "pie": [
           {
            "automargin": true,
            "type": "pie"
           }
          ],
          "scatter": [
           {
            "fillpattern": {
             "fillmode": "overlay",
             "size": 10,
             "solidity": 0.2
            },
            "type": "scatter"
           }
          ],
          "scatter3d": [
           {
            "line": {
             "colorbar": {
              "outlinewidth": 0,
              "ticks": ""
             }
            },
            "marker": {
             "colorbar": {
              "outlinewidth": 0,
              "ticks": ""
             }
            },
            "type": "scatter3d"
           }
          ],
          "scattercarpet": [
           {
            "marker": {
             "colorbar": {
              "outlinewidth": 0,
              "ticks": ""
             }
            },
            "type": "scattercarpet"
           }
          ],
          "scattergeo": [
           {
            "marker": {
             "colorbar": {
              "outlinewidth": 0,
              "ticks": ""
             }
            },
            "type": "scattergeo"
           }
          ],
          "scattergl": [
           {
            "marker": {
             "colorbar": {
              "outlinewidth": 0,
              "ticks": ""
             }
            },
            "type": "scattergl"
           }
          ],
          "scattermapbox": [
           {
            "marker": {
             "colorbar": {
              "outlinewidth": 0,
              "ticks": ""
             }
            },
            "type": "scattermapbox"
           }
          ],
          "scatterpolar": [
           {
            "marker": {
             "colorbar": {
              "outlinewidth": 0,
              "ticks": ""
             }
            },
            "type": "scatterpolar"
           }
          ],
          "scatterpolargl": [
           {
            "marker": {
             "colorbar": {
              "outlinewidth": 0,
              "ticks": ""
             }
            },
            "type": "scatterpolargl"
           }
          ],
          "scatterternary": [
           {
            "marker": {
             "colorbar": {
              "outlinewidth": 0,
              "ticks": ""
             }
            },
            "type": "scatterternary"
           }
          ],
          "surface": [
           {
            "colorbar": {
             "outlinewidth": 0,
             "ticks": ""
            },
            "colorscale": [
             [
              0,
              "#0d0887"
             ],
             [
              0.1111111111111111,
              "#46039f"
             ],
             [
              0.2222222222222222,
              "#7201a8"
             ],
             [
              0.3333333333333333,
              "#9c179e"
             ],
             [
              0.4444444444444444,
              "#bd3786"
             ],
             [
              0.5555555555555556,
              "#d8576b"
             ],
             [
              0.6666666666666666,
              "#ed7953"
             ],
             [
              0.7777777777777778,
              "#fb9f3a"
             ],
             [
              0.8888888888888888,
              "#fdca26"
             ],
             [
              1,
              "#f0f921"
             ]
            ],
            "type": "surface"
           }
          ],
          "table": [
           {
            "cells": {
             "fill": {
              "color": "#EBF0F8"
             },
             "line": {
              "color": "white"
             }
            },
            "header": {
             "fill": {
              "color": "#C8D4E3"
             },
             "line": {
              "color": "white"
             }
            },
            "type": "table"
           }
          ]
         },
         "layout": {
          "annotationdefaults": {
           "arrowcolor": "#2a3f5f",
           "arrowhead": 0,
           "arrowwidth": 1
          },
          "autotypenumbers": "strict",
          "coloraxis": {
           "colorbar": {
            "outlinewidth": 0,
            "ticks": ""
           }
          },
          "colorscale": {
           "diverging": [
            [
             0,
             "#8e0152"
            ],
            [
             0.1,
             "#c51b7d"
            ],
            [
             0.2,
             "#de77ae"
            ],
            [
             0.3,
             "#f1b6da"
            ],
            [
             0.4,
             "#fde0ef"
            ],
            [
             0.5,
             "#f7f7f7"
            ],
            [
             0.6,
             "#e6f5d0"
            ],
            [
             0.7,
             "#b8e186"
            ],
            [
             0.8,
             "#7fbc41"
            ],
            [
             0.9,
             "#4d9221"
            ],
            [
             1,
             "#276419"
            ]
           ],
           "sequential": [
            [
             0,
             "#0d0887"
            ],
            [
             0.1111111111111111,
             "#46039f"
            ],
            [
             0.2222222222222222,
             "#7201a8"
            ],
            [
             0.3333333333333333,
             "#9c179e"
            ],
            [
             0.4444444444444444,
             "#bd3786"
            ],
            [
             0.5555555555555556,
             "#d8576b"
            ],
            [
             0.6666666666666666,
             "#ed7953"
            ],
            [
             0.7777777777777778,
             "#fb9f3a"
            ],
            [
             0.8888888888888888,
             "#fdca26"
            ],
            [
             1,
             "#f0f921"
            ]
           ],
           "sequentialminus": [
            [
             0,
             "#0d0887"
            ],
            [
             0.1111111111111111,
             "#46039f"
            ],
            [
             0.2222222222222222,
             "#7201a8"
            ],
            [
             0.3333333333333333,
             "#9c179e"
            ],
            [
             0.4444444444444444,
             "#bd3786"
            ],
            [
             0.5555555555555556,
             "#d8576b"
            ],
            [
             0.6666666666666666,
             "#ed7953"
            ],
            [
             0.7777777777777778,
             "#fb9f3a"
            ],
            [
             0.8888888888888888,
             "#fdca26"
            ],
            [
             1,
             "#f0f921"
            ]
           ]
          },
          "colorway": [
           "#636efa",
           "#EF553B",
           "#00cc96",
           "#ab63fa",
           "#FFA15A",
           "#19d3f3",
           "#FF6692",
           "#B6E880",
           "#FF97FF",
           "#FECB52"
          ],
          "font": {
           "color": "#2a3f5f"
          },
          "geo": {
           "bgcolor": "white",
           "lakecolor": "white",
           "landcolor": "#E5ECF6",
           "showlakes": true,
           "showland": true,
           "subunitcolor": "white"
          },
          "hoverlabel": {
           "align": "left"
          },
          "hovermode": "closest",
          "mapbox": {
           "style": "light"
          },
          "paper_bgcolor": "white",
          "plot_bgcolor": "#E5ECF6",
          "polar": {
           "angularaxis": {
            "gridcolor": "white",
            "linecolor": "white",
            "ticks": ""
           },
           "bgcolor": "#E5ECF6",
           "radialaxis": {
            "gridcolor": "white",
            "linecolor": "white",
            "ticks": ""
           }
          },
          "scene": {
           "xaxis": {
            "backgroundcolor": "#E5ECF6",
            "gridcolor": "white",
            "gridwidth": 2,
            "linecolor": "white",
            "showbackground": true,
            "ticks": "",
            "zerolinecolor": "white"
           },
           "yaxis": {
            "backgroundcolor": "#E5ECF6",
            "gridcolor": "white",
            "gridwidth": 2,
            "linecolor": "white",
            "showbackground": true,
            "ticks": "",
            "zerolinecolor": "white"
           },
           "zaxis": {
            "backgroundcolor": "#E5ECF6",
            "gridcolor": "white",
            "gridwidth": 2,
            "linecolor": "white",
            "showbackground": true,
            "ticks": "",
            "zerolinecolor": "white"
           }
          },
          "shapedefaults": {
           "line": {
            "color": "#2a3f5f"
           }
          },
          "ternary": {
           "aaxis": {
            "gridcolor": "white",
            "linecolor": "white",
            "ticks": ""
           },
           "baxis": {
            "gridcolor": "white",
            "linecolor": "white",
            "ticks": ""
           },
           "bgcolor": "#E5ECF6",
           "caxis": {
            "gridcolor": "white",
            "linecolor": "white",
            "ticks": ""
           }
          },
          "title": {
           "x": 0.05
          },
          "xaxis": {
           "automargin": true,
           "gridcolor": "white",
           "linecolor": "white",
           "ticks": "",
           "title": {
            "standoff": 15
           },
           "zerolinecolor": "white",
           "zerolinewidth": 2
          },
          "yaxis": {
           "automargin": true,
           "gridcolor": "white",
           "linecolor": "white",
           "ticks": "",
           "title": {
            "standoff": 15
           },
           "zerolinecolor": "white",
           "zerolinewidth": 2
          }
         }
        },
        "title": {
         "text": "Average Review Score vs. Shipping Cost (Correlation: -0.09)"
        },
        "xaxis": {
         "anchor": "y",
         "domain": [
          0,
          1
         ],
         "title": {
          "text": "Freight Value (R$)"
         }
        },
        "yaxis": {
         "anchor": "x",
         "domain": [
          0,
          1
         ],
         "title": {
          "text": "Average Review Score"
         }
        }
       }
      }
     },
     "metadata": {},
     "output_type": "display_data"
    },
    {
     "name": "stdout",
     "output_type": "stream",
     "text": [
      "Analyzing: Number of Photos vs. Review Score...\n"
     ]
    },
    {
     "data": {
      "application/vnd.plotly.v1+json": {
       "config": {
        "plotlyServerURL": "https://plot.ly"
       },
       "data": [
        {
         "alignmentgroup": "True",
         "hovertemplate": "Number of Photos=%{x}<br>Average Review Score=%{y}<extra></extra>",
         "legendgroup": "",
         "marker": {
          "color": "#636efa",
          "pattern": {
           "shape": ""
          }
         },
         "name": "",
         "offsetgroup": "",
         "orientation": "v",
         "showlegend": false,
         "textposition": "auto",
         "texttemplate": "%{y:.2f}",
         "type": "bar",
         "x": [
          1,
          2,
          3,
          4,
          5,
          6,
          7,
          8,
          9,
          10,
          11,
          12,
          13,
          14,
          15,
          17,
          18,
          19,
          20
         ],
         "xaxis": "x",
         "y": [
          3.9988379161154217,
          4.057504784470974,
          4.078631647211414,
          4.0507402101241645,
          4.156337764463584,
          4.058025019962736,
          4.102136181575434,
          4.136363636363637,
          4.055921052631579,
          4.005847953216374,
          3.859154929577465,
          4.0754716981132075,
          4.5,
          3.6666666666666665,
          4.5,
          3.3636363636363638,
          4.75,
          1,
          5
         ],
         "yaxis": "y"
        }
       ],
       "layout": {
        "barmode": "relative",
        "legend": {
         "tracegroupgap": 0
        },
        "template": {
         "data": {
          "bar": [
           {
            "error_x": {
             "color": "#2a3f5f"
            },
            "error_y": {
             "color": "#2a3f5f"
            },
            "marker": {
             "line": {
              "color": "#E5ECF6",
              "width": 0.5
             },
             "pattern": {
              "fillmode": "overlay",
              "size": 10,
              "solidity": 0.2
             }
            },
            "type": "bar"
           }
          ],
          "barpolar": [
           {
            "marker": {
             "line": {
              "color": "#E5ECF6",
              "width": 0.5
             },
             "pattern": {
              "fillmode": "overlay",
              "size": 10,
              "solidity": 0.2
             }
            },
            "type": "barpolar"
           }
          ],
          "carpet": [
           {
            "aaxis": {
             "endlinecolor": "#2a3f5f",
             "gridcolor": "white",
             "linecolor": "white",
             "minorgridcolor": "white",
             "startlinecolor": "#2a3f5f"
            },
            "baxis": {
             "endlinecolor": "#2a3f5f",
             "gridcolor": "white",
             "linecolor": "white",
             "minorgridcolor": "white",
             "startlinecolor": "#2a3f5f"
            },
            "type": "carpet"
           }
          ],
          "choropleth": [
           {
            "colorbar": {
             "outlinewidth": 0,
             "ticks": ""
            },
            "type": "choropleth"
           }
          ],
          "contour": [
           {
            "colorbar": {
             "outlinewidth": 0,
             "ticks": ""
            },
            "colorscale": [
             [
              0,
              "#0d0887"
             ],
             [
              0.1111111111111111,
              "#46039f"
             ],
             [
              0.2222222222222222,
              "#7201a8"
             ],
             [
              0.3333333333333333,
              "#9c179e"
             ],
             [
              0.4444444444444444,
              "#bd3786"
             ],
             [
              0.5555555555555556,
              "#d8576b"
             ],
             [
              0.6666666666666666,
              "#ed7953"
             ],
             [
              0.7777777777777778,
              "#fb9f3a"
             ],
             [
              0.8888888888888888,
              "#fdca26"
             ],
             [
              1,
              "#f0f921"
             ]
            ],
            "type": "contour"
           }
          ],
          "contourcarpet": [
           {
            "colorbar": {
             "outlinewidth": 0,
             "ticks": ""
            },
            "type": "contourcarpet"
           }
          ],
          "heatmap": [
           {
            "colorbar": {
             "outlinewidth": 0,
             "ticks": ""
            },
            "colorscale": [
             [
              0,
              "#0d0887"
             ],
             [
              0.1111111111111111,
              "#46039f"
             ],
             [
              0.2222222222222222,
              "#7201a8"
             ],
             [
              0.3333333333333333,
              "#9c179e"
             ],
             [
              0.4444444444444444,
              "#bd3786"
             ],
             [
              0.5555555555555556,
              "#d8576b"
             ],
             [
              0.6666666666666666,
              "#ed7953"
             ],
             [
              0.7777777777777778,
              "#fb9f3a"
             ],
             [
              0.8888888888888888,
              "#fdca26"
             ],
             [
              1,
              "#f0f921"
             ]
            ],
            "type": "heatmap"
           }
          ],
          "heatmapgl": [
           {
            "colorbar": {
             "outlinewidth": 0,
             "ticks": ""
            },
            "colorscale": [
             [
              0,
              "#0d0887"
             ],
             [
              0.1111111111111111,
              "#46039f"
             ],
             [
              0.2222222222222222,
              "#7201a8"
             ],
             [
              0.3333333333333333,
              "#9c179e"
             ],
             [
              0.4444444444444444,
              "#bd3786"
             ],
             [
              0.5555555555555556,
              "#d8576b"
             ],
             [
              0.6666666666666666,
              "#ed7953"
             ],
             [
              0.7777777777777778,
              "#fb9f3a"
             ],
             [
              0.8888888888888888,
              "#fdca26"
             ],
             [
              1,
              "#f0f921"
             ]
            ],
            "type": "heatmapgl"
           }
          ],
          "histogram": [
           {
            "marker": {
             "pattern": {
              "fillmode": "overlay",
              "size": 10,
              "solidity": 0.2
             }
            },
            "type": "histogram"
           }
          ],
          "histogram2d": [
           {
            "colorbar": {
             "outlinewidth": 0,
             "ticks": ""
            },
            "colorscale": [
             [
              0,
              "#0d0887"
             ],
             [
              0.1111111111111111,
              "#46039f"
             ],
             [
              0.2222222222222222,
              "#7201a8"
             ],
             [
              0.3333333333333333,
              "#9c179e"
             ],
             [
              0.4444444444444444,
              "#bd3786"
             ],
             [
              0.5555555555555556,
              "#d8576b"
             ],
             [
              0.6666666666666666,
              "#ed7953"
             ],
             [
              0.7777777777777778,
              "#fb9f3a"
             ],
             [
              0.8888888888888888,
              "#fdca26"
             ],
             [
              1,
              "#f0f921"
             ]
            ],
            "type": "histogram2d"
           }
          ],
          "histogram2dcontour": [
           {
            "colorbar": {
             "outlinewidth": 0,
             "ticks": ""
            },
            "colorscale": [
             [
              0,
              "#0d0887"
             ],
             [
              0.1111111111111111,
              "#46039f"
             ],
             [
              0.2222222222222222,
              "#7201a8"
             ],
             [
              0.3333333333333333,
              "#9c179e"
             ],
             [
              0.4444444444444444,
              "#bd3786"
             ],
             [
              0.5555555555555556,
              "#d8576b"
             ],
             [
              0.6666666666666666,
              "#ed7953"
             ],
             [
              0.7777777777777778,
              "#fb9f3a"
             ],
             [
              0.8888888888888888,
              "#fdca26"
             ],
             [
              1,
              "#f0f921"
             ]
            ],
            "type": "histogram2dcontour"
           }
          ],
          "mesh3d": [
           {
            "colorbar": {
             "outlinewidth": 0,
             "ticks": ""
            },
            "type": "mesh3d"
           }
          ],
          "parcoords": [
           {
            "line": {
             "colorbar": {
              "outlinewidth": 0,
              "ticks": ""
             }
            },
            "type": "parcoords"
           }
          ],
          "pie": [
           {
            "automargin": true,
            "type": "pie"
           }
          ],
          "scatter": [
           {
            "fillpattern": {
             "fillmode": "overlay",
             "size": 10,
             "solidity": 0.2
            },
            "type": "scatter"
           }
          ],
          "scatter3d": [
           {
            "line": {
             "colorbar": {
              "outlinewidth": 0,
              "ticks": ""
             }
            },
            "marker": {
             "colorbar": {
              "outlinewidth": 0,
              "ticks": ""
             }
            },
            "type": "scatter3d"
           }
          ],
          "scattercarpet": [
           {
            "marker": {
             "colorbar": {
              "outlinewidth": 0,
              "ticks": ""
             }
            },
            "type": "scattercarpet"
           }
          ],
          "scattergeo": [
           {
            "marker": {
             "colorbar": {
              "outlinewidth": 0,
              "ticks": ""
             }
            },
            "type": "scattergeo"
           }
          ],
          "scattergl": [
           {
            "marker": {
             "colorbar": {
              "outlinewidth": 0,
              "ticks": ""
             }
            },
            "type": "scattergl"
           }
          ],
          "scattermapbox": [
           {
            "marker": {
             "colorbar": {
              "outlinewidth": 0,
              "ticks": ""
             }
            },
            "type": "scattermapbox"
           }
          ],
          "scatterpolar": [
           {
            "marker": {
             "colorbar": {
              "outlinewidth": 0,
              "ticks": ""
             }
            },
            "type": "scatterpolar"
           }
          ],
          "scatterpolargl": [
           {
            "marker": {
             "colorbar": {
              "outlinewidth": 0,
              "ticks": ""
             }
            },
            "type": "scatterpolargl"
           }
          ],
          "scatterternary": [
           {
            "marker": {
             "colorbar": {
              "outlinewidth": 0,
              "ticks": ""
             }
            },
            "type": "scatterternary"
           }
          ],
          "surface": [
           {
            "colorbar": {
             "outlinewidth": 0,
             "ticks": ""
            },
            "colorscale": [
             [
              0,
              "#0d0887"
             ],
             [
              0.1111111111111111,
              "#46039f"
             ],
             [
              0.2222222222222222,
              "#7201a8"
             ],
             [
              0.3333333333333333,
              "#9c179e"
             ],
             [
              0.4444444444444444,
              "#bd3786"
             ],
             [
              0.5555555555555556,
              "#d8576b"
             ],
             [
              0.6666666666666666,
              "#ed7953"
             ],
             [
              0.7777777777777778,
              "#fb9f3a"
             ],
             [
              0.8888888888888888,
              "#fdca26"
             ],
             [
              1,
              "#f0f921"
             ]
            ],
            "type": "surface"
           }
          ],
          "table": [
           {
            "cells": {
             "fill": {
              "color": "#EBF0F8"
             },
             "line": {
              "color": "white"
             }
            },
            "header": {
             "fill": {
              "color": "#C8D4E3"
             },
             "line": {
              "color": "white"
             }
            },
            "type": "table"
           }
          ]
         },
         "layout": {
          "annotationdefaults": {
           "arrowcolor": "#2a3f5f",
           "arrowhead": 0,
           "arrowwidth": 1
          },
          "autotypenumbers": "strict",
          "coloraxis": {
           "colorbar": {
            "outlinewidth": 0,
            "ticks": ""
           }
          },
          "colorscale": {
           "diverging": [
            [
             0,
             "#8e0152"
            ],
            [
             0.1,
             "#c51b7d"
            ],
            [
             0.2,
             "#de77ae"
            ],
            [
             0.3,
             "#f1b6da"
            ],
            [
             0.4,
             "#fde0ef"
            ],
            [
             0.5,
             "#f7f7f7"
            ],
            [
             0.6,
             "#e6f5d0"
            ],
            [
             0.7,
             "#b8e186"
            ],
            [
             0.8,
             "#7fbc41"
            ],
            [
             0.9,
             "#4d9221"
            ],
            [
             1,
             "#276419"
            ]
           ],
           "sequential": [
            [
             0,
             "#0d0887"
            ],
            [
             0.1111111111111111,
             "#46039f"
            ],
            [
             0.2222222222222222,
             "#7201a8"
            ],
            [
             0.3333333333333333,
             "#9c179e"
            ],
            [
             0.4444444444444444,
             "#bd3786"
            ],
            [
             0.5555555555555556,
             "#d8576b"
            ],
            [
             0.6666666666666666,
             "#ed7953"
            ],
            [
             0.7777777777777778,
             "#fb9f3a"
            ],
            [
             0.8888888888888888,
             "#fdca26"
            ],
            [
             1,
             "#f0f921"
            ]
           ],
           "sequentialminus": [
            [
             0,
             "#0d0887"
            ],
            [
             0.1111111111111111,
             "#46039f"
            ],
            [
             0.2222222222222222,
             "#7201a8"
            ],
            [
             0.3333333333333333,
             "#9c179e"
            ],
            [
             0.4444444444444444,
             "#bd3786"
            ],
            [
             0.5555555555555556,
             "#d8576b"
            ],
            [
             0.6666666666666666,
             "#ed7953"
            ],
            [
             0.7777777777777778,
             "#fb9f3a"
            ],
            [
             0.8888888888888888,
             "#fdca26"
            ],
            [
             1,
             "#f0f921"
            ]
           ]
          },
          "colorway": [
           "#636efa",
           "#EF553B",
           "#00cc96",
           "#ab63fa",
           "#FFA15A",
           "#19d3f3",
           "#FF6692",
           "#B6E880",
           "#FF97FF",
           "#FECB52"
          ],
          "font": {
           "color": "#2a3f5f"
          },
          "geo": {
           "bgcolor": "white",
           "lakecolor": "white",
           "landcolor": "#E5ECF6",
           "showlakes": true,
           "showland": true,
           "subunitcolor": "white"
          },
          "hoverlabel": {
           "align": "left"
          },
          "hovermode": "closest",
          "mapbox": {
           "style": "light"
          },
          "paper_bgcolor": "white",
          "plot_bgcolor": "#E5ECF6",
          "polar": {
           "angularaxis": {
            "gridcolor": "white",
            "linecolor": "white",
            "ticks": ""
           },
           "bgcolor": "#E5ECF6",
           "radialaxis": {
            "gridcolor": "white",
            "linecolor": "white",
            "ticks": ""
           }
          },
          "scene": {
           "xaxis": {
            "backgroundcolor": "#E5ECF6",
            "gridcolor": "white",
            "gridwidth": 2,
            "linecolor": "white",
            "showbackground": true,
            "ticks": "",
            "zerolinecolor": "white"
           },
           "yaxis": {
            "backgroundcolor": "#E5ECF6",
            "gridcolor": "white",
            "gridwidth": 2,
            "linecolor": "white",
            "showbackground": true,
            "ticks": "",
            "zerolinecolor": "white"
           },
           "zaxis": {
            "backgroundcolor": "#E5ECF6",
            "gridcolor": "white",
            "gridwidth": 2,
            "linecolor": "white",
            "showbackground": true,
            "ticks": "",
            "zerolinecolor": "white"
           }
          },
          "shapedefaults": {
           "line": {
            "color": "#2a3f5f"
           }
          },
          "ternary": {
           "aaxis": {
            "gridcolor": "white",
            "linecolor": "white",
            "ticks": ""
           },
           "baxis": {
            "gridcolor": "white",
            "linecolor": "white",
            "ticks": ""
           },
           "bgcolor": "#E5ECF6",
           "caxis": {
            "gridcolor": "white",
            "linecolor": "white",
            "ticks": ""
           }
          },
          "title": {
           "x": 0.05
          },
          "xaxis": {
           "automargin": true,
           "gridcolor": "white",
           "linecolor": "white",
           "ticks": "",
           "title": {
            "standoff": 15
           },
           "zerolinecolor": "white",
           "zerolinewidth": 2
          },
          "yaxis": {
           "automargin": true,
           "gridcolor": "white",
           "linecolor": "white",
           "ticks": "",
           "title": {
            "standoff": 15
           },
           "zerolinecolor": "white",
           "zerolinewidth": 2
          }
         }
        },
        "title": {
         "text": "Average Review Score by Number of Photos (Correlation: 0.02)"
        },
        "xaxis": {
         "anchor": "y",
         "domain": [
          0,
          1
         ],
         "title": {
          "text": "Number of Photos"
         }
        },
        "yaxis": {
         "anchor": "x",
         "domain": [
          0,
          1
         ],
         "title": {
          "text": "Average Review Score"
         }
        }
       }
      }
     },
     "metadata": {},
     "output_type": "display_data"
    },
    {
     "name": "stdout",
     "output_type": "stream",
     "text": [
      "Analyzing: Freight Value vs. Sales...\n"
     ]
    },
    {
     "data": {
      "application/vnd.plotly.v1+json": {
       "config": {
        "plotlyServerURL": "https://plot.ly"
       },
       "data": [
        {
         "hovertemplate": "<b>%{hovertext}</b><br><br>Average Freight Value (R$)=%{x}<br>Total Number of Items Sold=%{y}<br>total_revenue=%{marker.size}<extra></extra>",
         "hovertext": [
          "agro_industry_and_commerce",
          "air_conditioning",
          "art",
          "arts_and_craftmanship",
          "audio",
          "auto",
          "baby",
          "bed_bath_table",
          "books_general_interest",
          "books_imported",
          "books_technical",
          "cds_dvds_musicals",
          "christmas_supplies",
          "cine_photo",
          "computers",
          "computers_accessories",
          "consoles_games",
          "construction_tools_construction",
          "construction_tools_lights",
          "construction_tools_safety",
          "cool_stuff",
          "costruction_tools_garden",
          "costruction_tools_tools",
          "diapers_and_hygiene",
          "drinks",
          "dvds_blu_ray",
          "electronics",
          "fashio_female_clothing",
          "fashion_bags_accessories",
          "fashion_childrens_clothes",
          "fashion_male_clothing",
          "fashion_shoes",
          "fashion_sport",
          "fashion_underwear_beach",
          "fixed_telephony",
          "flowers",
          "food",
          "food_drink",
          "furniture_bedroom",
          "furniture_decor",
          "furniture_living_room",
          "furniture_mattress_and_upholstery",
          "garden_tools",
          "health_beauty",
          "home_appliances",
          "home_appliances_2",
          "home_comfort_2",
          "home_confort",
          "home_construction",
          "housewares",
          "industry_commerce_and_business",
          "kitchen_dining_laundry_garden_furniture",
          "la_cuisine",
          "luggage_accessories",
          "market_place",
          "music",
          "musical_instruments",
          "office_furniture",
          "party_supplies",
          "perfumery",
          "pet_shop",
          "security_and_services",
          "signaling_and_security",
          "small_appliances",
          "small_appliances_home_oven_and_coffee",
          "sports_leisure",
          "stationery",
          "tablets_printing_image",
          "telephony",
          "toys",
          "watches_gifts"
         ],
         "legendgroup": "",
         "marker": {
          "color": "#636efa",
          "size": [
           72530.47,
           54330.06,
           24037.739999999998,
           1814.01,
           50458.71,
           586669.9,
           408716.75,
           1040140.31,
           46580.13,
           4639.85,
           19040.09,
           730,
           8090.1,
           6949.360000000001,
           214198.13,
           914579.39,
           155906.27,
           143797,
           40478.23,
           40515.52,
           629561.68,
           25769.74,
           15774.25,
           1567.59,
           22415.96,
           5982.49,
           156383.07,
           2889.44,
           152836.42,
           569.85,
           10602.82,
           23368.07,
           2144.5,
           9491.65,
           59023.02,
           1000.24,
           28935.41,
           15245.47,
           20278.78,
           729864.42,
           68245.6,
           4368.08,
           482946.89,
           1252404.85,
           82973.75,
           113216.49,
           721.57,
           58051.840000000004,
           82877.47,
           630058.22,
           39559.61,
           46204.47,
           1917.99,
           139845.2,
           28313.18,
           6034.35,
           188876.46,
           272339.82,
           4485.18,
           398578.07,
           213522.92,
           283.28999999999996,
           21338.95,
           189594.18,
           47445.71,
           986848.92,
           229835.78,
           6508.43,
           320111.07,
           479702.1,
           1197565.48
          ],
          "sizemode": "area",
          "sizeref": 3131.012125,
          "symbol": "circle"
         },
         "mode": "markers",
         "name": "",
         "orientation": "v",
         "showlegend": false,
         "type": "scatter",
         "x": [
          27.56415094339623,
          22.71753424657534,
          19.364830917874396,
          15.422083333333333,
          15.649224376731302,
          21.882162354616664,
          22.303510498687665,
          18.390023345604742,
          16.622768670309654,
          12.830833333333334,
          16.004210526315788,
          16.070714285714285,
          20.438219178082193,
          17.30945205479452,
          47.6308,
          18.805584150847242,
          17.404773735581188,
          22.19271058315335,
          25.035135135135135,
          20.227305699481864,
          22.10826882290562,
          22.232208333333332,
          19.77141414141414,
          14.709743589743589,
          15.050053050397878,
          20.176349206349204,
          16.76895598399418,
          12.927999999999999,
          15.516596370769985,
          11.93875,
          16.12969465648855,
          18.758697318007663,
          19.104193548387098,
          14.62376923076923,
          17.52496183206107,
          14.630645161290323,
          14.297777777777776,
          16.291648745519712,
          42.67927272727273,
          20.718732445084626,
          35.555079681274904,
          42.90684210526316,
          22.76192192192192,
          18.879930533955417,
          19.263163771712158,
          44.376512605042016,
          13.518888888888888,
          19.567908045977013,
          22.94,
          20.99512314561429,
          29.51796992481203,
          42.94342857142857,
          25.64923076923077,
          27.860955882352943,
          17.553948220064726,
          18.171315789473685,
          27.412414814814817,
          40.40014819205691,
          19.255116279069767,
          15.846150248465362,
          20.299602888086643,
          20.61,
          32.89096446700508,
          23.695007385524374,
          36.15605263157895,
          19.49610648148148,
          18.58,
          14.674074074074072,
          15.691671463360636,
          18.812407724272795,
          16.779621848739495
         ],
         "xaxis": "x",
         "y": [
          212,
          292,
          207,
          24,
          361,
          4213,
          3048,
          11137,
          549,
          60,
          266,
          14,
          146,
          73,
          200,
          7849,
          1127,
          926,
          296,
          193,
          3772,
          240,
          99,
          39,
          377,
          63,
          2749,
          50,
          2039,
          8,
          131,
          261,
          31,
          130,
          262,
          31,
          495,
          279,
          110,
          8331,
          502,
          38,
          4329,
          9645,
          806,
          238,
          27,
          435,
          600,
          6943,
          266,
          280,
          13,
          1088,
          309,
          38,
          675,
          1687,
          43,
          3421,
          1939,
          2,
          197,
          677,
          76,
          8640,
          2507,
          81,
          4517,
          4091,
          5950
         ],
         "yaxis": "y"
        }
       ],
       "layout": {
        "legend": {
         "itemsizing": "constant",
         "tracegroupgap": 0
        },
        "template": {
         "data": {
          "bar": [
           {
            "error_x": {
             "color": "#2a3f5f"
            },
            "error_y": {
             "color": "#2a3f5f"
            },
            "marker": {
             "line": {
              "color": "#E5ECF6",
              "width": 0.5
             },
             "pattern": {
              "fillmode": "overlay",
              "size": 10,
              "solidity": 0.2
             }
            },
            "type": "bar"
           }
          ],
          "barpolar": [
           {
            "marker": {
             "line": {
              "color": "#E5ECF6",
              "width": 0.5
             },
             "pattern": {
              "fillmode": "overlay",
              "size": 10,
              "solidity": 0.2
             }
            },
            "type": "barpolar"
           }
          ],
          "carpet": [
           {
            "aaxis": {
             "endlinecolor": "#2a3f5f",
             "gridcolor": "white",
             "linecolor": "white",
             "minorgridcolor": "white",
             "startlinecolor": "#2a3f5f"
            },
            "baxis": {
             "endlinecolor": "#2a3f5f",
             "gridcolor": "white",
             "linecolor": "white",
             "minorgridcolor": "white",
             "startlinecolor": "#2a3f5f"
            },
            "type": "carpet"
           }
          ],
          "choropleth": [
           {
            "colorbar": {
             "outlinewidth": 0,
             "ticks": ""
            },
            "type": "choropleth"
           }
          ],
          "contour": [
           {
            "colorbar": {
             "outlinewidth": 0,
             "ticks": ""
            },
            "colorscale": [
             [
              0,
              "#0d0887"
             ],
             [
              0.1111111111111111,
              "#46039f"
             ],
             [
              0.2222222222222222,
              "#7201a8"
             ],
             [
              0.3333333333333333,
              "#9c179e"
             ],
             [
              0.4444444444444444,
              "#bd3786"
             ],
             [
              0.5555555555555556,
              "#d8576b"
             ],
             [
              0.6666666666666666,
              "#ed7953"
             ],
             [
              0.7777777777777778,
              "#fb9f3a"
             ],
             [
              0.8888888888888888,
              "#fdca26"
             ],
             [
              1,
              "#f0f921"
             ]
            ],
            "type": "contour"
           }
          ],
          "contourcarpet": [
           {
            "colorbar": {
             "outlinewidth": 0,
             "ticks": ""
            },
            "type": "contourcarpet"
           }
          ],
          "heatmap": [
           {
            "colorbar": {
             "outlinewidth": 0,
             "ticks": ""
            },
            "colorscale": [
             [
              0,
              "#0d0887"
             ],
             [
              0.1111111111111111,
              "#46039f"
             ],
             [
              0.2222222222222222,
              "#7201a8"
             ],
             [
              0.3333333333333333,
              "#9c179e"
             ],
             [
              0.4444444444444444,
              "#bd3786"
             ],
             [
              0.5555555555555556,
              "#d8576b"
             ],
             [
              0.6666666666666666,
              "#ed7953"
             ],
             [
              0.7777777777777778,
              "#fb9f3a"
             ],
             [
              0.8888888888888888,
              "#fdca26"
             ],
             [
              1,
              "#f0f921"
             ]
            ],
            "type": "heatmap"
           }
          ],
          "heatmapgl": [
           {
            "colorbar": {
             "outlinewidth": 0,
             "ticks": ""
            },
            "colorscale": [
             [
              0,
              "#0d0887"
             ],
             [
              0.1111111111111111,
              "#46039f"
             ],
             [
              0.2222222222222222,
              "#7201a8"
             ],
             [
              0.3333333333333333,
              "#9c179e"
             ],
             [
              0.4444444444444444,
              "#bd3786"
             ],
             [
              0.5555555555555556,
              "#d8576b"
             ],
             [
              0.6666666666666666,
              "#ed7953"
             ],
             [
              0.7777777777777778,
              "#fb9f3a"
             ],
             [
              0.8888888888888888,
              "#fdca26"
             ],
             [
              1,
              "#f0f921"
             ]
            ],
            "type": "heatmapgl"
           }
          ],
          "histogram": [
           {
            "marker": {
             "pattern": {
              "fillmode": "overlay",
              "size": 10,
              "solidity": 0.2
             }
            },
            "type": "histogram"
           }
          ],
          "histogram2d": [
           {
            "colorbar": {
             "outlinewidth": 0,
             "ticks": ""
            },
            "colorscale": [
             [
              0,
              "#0d0887"
             ],
             [
              0.1111111111111111,
              "#46039f"
             ],
             [
              0.2222222222222222,
              "#7201a8"
             ],
             [
              0.3333333333333333,
              "#9c179e"
             ],
             [
              0.4444444444444444,
              "#bd3786"
             ],
             [
              0.5555555555555556,
              "#d8576b"
             ],
             [
              0.6666666666666666,
              "#ed7953"
             ],
             [
              0.7777777777777778,
              "#fb9f3a"
             ],
             [
              0.8888888888888888,
              "#fdca26"
             ],
             [
              1,
              "#f0f921"
             ]
            ],
            "type": "histogram2d"
           }
          ],
          "histogram2dcontour": [
           {
            "colorbar": {
             "outlinewidth": 0,
             "ticks": ""
            },
            "colorscale": [
             [
              0,
              "#0d0887"
             ],
             [
              0.1111111111111111,
              "#46039f"
             ],
             [
              0.2222222222222222,
              "#7201a8"
             ],
             [
              0.3333333333333333,
              "#9c179e"
             ],
             [
              0.4444444444444444,
              "#bd3786"
             ],
             [
              0.5555555555555556,
              "#d8576b"
             ],
             [
              0.6666666666666666,
              "#ed7953"
             ],
             [
              0.7777777777777778,
              "#fb9f3a"
             ],
             [
              0.8888888888888888,
              "#fdca26"
             ],
             [
              1,
              "#f0f921"
             ]
            ],
            "type": "histogram2dcontour"
           }
          ],
          "mesh3d": [
           {
            "colorbar": {
             "outlinewidth": 0,
             "ticks": ""
            },
            "type": "mesh3d"
           }
          ],
          "parcoords": [
           {
            "line": {
             "colorbar": {
              "outlinewidth": 0,
              "ticks": ""
             }
            },
            "type": "parcoords"
           }
          ],
          "pie": [
           {
            "automargin": true,
            "type": "pie"
           }
          ],
          "scatter": [
           {
            "fillpattern": {
             "fillmode": "overlay",
             "size": 10,
             "solidity": 0.2
            },
            "type": "scatter"
           }
          ],
          "scatter3d": [
           {
            "line": {
             "colorbar": {
              "outlinewidth": 0,
              "ticks": ""
             }
            },
            "marker": {
             "colorbar": {
              "outlinewidth": 0,
              "ticks": ""
             }
            },
            "type": "scatter3d"
           }
          ],
          "scattercarpet": [
           {
            "marker": {
             "colorbar": {
              "outlinewidth": 0,
              "ticks": ""
             }
            },
            "type": "scattercarpet"
           }
          ],
          "scattergeo": [
           {
            "marker": {
             "colorbar": {
              "outlinewidth": 0,
              "ticks": ""
             }
            },
            "type": "scattergeo"
           }
          ],
          "scattergl": [
           {
            "marker": {
             "colorbar": {
              "outlinewidth": 0,
              "ticks": ""
             }
            },
            "type": "scattergl"
           }
          ],
          "scattermapbox": [
           {
            "marker": {
             "colorbar": {
              "outlinewidth": 0,
              "ticks": ""
             }
            },
            "type": "scattermapbox"
           }
          ],
          "scatterpolar": [
           {
            "marker": {
             "colorbar": {
              "outlinewidth": 0,
              "ticks": ""
             }
            },
            "type": "scatterpolar"
           }
          ],
          "scatterpolargl": [
           {
            "marker": {
             "colorbar": {
              "outlinewidth": 0,
              "ticks": ""
             }
            },
            "type": "scatterpolargl"
           }
          ],
          "scatterternary": [
           {
            "marker": {
             "colorbar": {
              "outlinewidth": 0,
              "ticks": ""
             }
            },
            "type": "scatterternary"
           }
          ],
          "surface": [
           {
            "colorbar": {
             "outlinewidth": 0,
             "ticks": ""
            },
            "colorscale": [
             [
              0,
              "#0d0887"
             ],
             [
              0.1111111111111111,
              "#46039f"
             ],
             [
              0.2222222222222222,
              "#7201a8"
             ],
             [
              0.3333333333333333,
              "#9c179e"
             ],
             [
              0.4444444444444444,
              "#bd3786"
             ],
             [
              0.5555555555555556,
              "#d8576b"
             ],
             [
              0.6666666666666666,
              "#ed7953"
             ],
             [
              0.7777777777777778,
              "#fb9f3a"
             ],
             [
              0.8888888888888888,
              "#fdca26"
             ],
             [
              1,
              "#f0f921"
             ]
            ],
            "type": "surface"
           }
          ],
          "table": [
           {
            "cells": {
             "fill": {
              "color": "#EBF0F8"
             },
             "line": {
              "color": "white"
             }
            },
            "header": {
             "fill": {
              "color": "#C8D4E3"
             },
             "line": {
              "color": "white"
             }
            },
            "type": "table"
           }
          ]
         },
         "layout": {
          "annotationdefaults": {
           "arrowcolor": "#2a3f5f",
           "arrowhead": 0,
           "arrowwidth": 1
          },
          "autotypenumbers": "strict",
          "coloraxis": {
           "colorbar": {
            "outlinewidth": 0,
            "ticks": ""
           }
          },
          "colorscale": {
           "diverging": [
            [
             0,
             "#8e0152"
            ],
            [
             0.1,
             "#c51b7d"
            ],
            [
             0.2,
             "#de77ae"
            ],
            [
             0.3,
             "#f1b6da"
            ],
            [
             0.4,
             "#fde0ef"
            ],
            [
             0.5,
             "#f7f7f7"
            ],
            [
             0.6,
             "#e6f5d0"
            ],
            [
             0.7,
             "#b8e186"
            ],
            [
             0.8,
             "#7fbc41"
            ],
            [
             0.9,
             "#4d9221"
            ],
            [
             1,
             "#276419"
            ]
           ],
           "sequential": [
            [
             0,
             "#0d0887"
            ],
            [
             0.1111111111111111,
             "#46039f"
            ],
            [
             0.2222222222222222,
             "#7201a8"
            ],
            [
             0.3333333333333333,
             "#9c179e"
            ],
            [
             0.4444444444444444,
             "#bd3786"
            ],
            [
             0.5555555555555556,
             "#d8576b"
            ],
            [
             0.6666666666666666,
             "#ed7953"
            ],
            [
             0.7777777777777778,
             "#fb9f3a"
            ],
            [
             0.8888888888888888,
             "#fdca26"
            ],
            [
             1,
             "#f0f921"
            ]
           ],
           "sequentialminus": [
            [
             0,
             "#0d0887"
            ],
            [
             0.1111111111111111,
             "#46039f"
            ],
            [
             0.2222222222222222,
             "#7201a8"
            ],
            [
             0.3333333333333333,
             "#9c179e"
            ],
            [
             0.4444444444444444,
             "#bd3786"
            ],
            [
             0.5555555555555556,
             "#d8576b"
            ],
            [
             0.6666666666666666,
             "#ed7953"
            ],
            [
             0.7777777777777778,
             "#fb9f3a"
            ],
            [
             0.8888888888888888,
             "#fdca26"
            ],
            [
             1,
             "#f0f921"
            ]
           ]
          },
          "colorway": [
           "#636efa",
           "#EF553B",
           "#00cc96",
           "#ab63fa",
           "#FFA15A",
           "#19d3f3",
           "#FF6692",
           "#B6E880",
           "#FF97FF",
           "#FECB52"
          ],
          "font": {
           "color": "#2a3f5f"
          },
          "geo": {
           "bgcolor": "white",
           "lakecolor": "white",
           "landcolor": "#E5ECF6",
           "showlakes": true,
           "showland": true,
           "subunitcolor": "white"
          },
          "hoverlabel": {
           "align": "left"
          },
          "hovermode": "closest",
          "mapbox": {
           "style": "light"
          },
          "paper_bgcolor": "white",
          "plot_bgcolor": "#E5ECF6",
          "polar": {
           "angularaxis": {
            "gridcolor": "white",
            "linecolor": "white",
            "ticks": ""
           },
           "bgcolor": "#E5ECF6",
           "radialaxis": {
            "gridcolor": "white",
            "linecolor": "white",
            "ticks": ""
           }
          },
          "scene": {
           "xaxis": {
            "backgroundcolor": "#E5ECF6",
            "gridcolor": "white",
            "gridwidth": 2,
            "linecolor": "white",
            "showbackground": true,
            "ticks": "",
            "zerolinecolor": "white"
           },
           "yaxis": {
            "backgroundcolor": "#E5ECF6",
            "gridcolor": "white",
            "gridwidth": 2,
            "linecolor": "white",
            "showbackground": true,
            "ticks": "",
            "zerolinecolor": "white"
           },
           "zaxis": {
            "backgroundcolor": "#E5ECF6",
            "gridcolor": "white",
            "gridwidth": 2,
            "linecolor": "white",
            "showbackground": true,
            "ticks": "",
            "zerolinecolor": "white"
           }
          },
          "shapedefaults": {
           "line": {
            "color": "#2a3f5f"
           }
          },
          "ternary": {
           "aaxis": {
            "gridcolor": "white",
            "linecolor": "white",
            "ticks": ""
           },
           "baxis": {
            "gridcolor": "white",
            "linecolor": "white",
            "ticks": ""
           },
           "bgcolor": "#E5ECF6",
           "caxis": {
            "gridcolor": "white",
            "linecolor": "white",
            "ticks": ""
           }
          },
          "title": {
           "x": 0.05
          },
          "xaxis": {
           "automargin": true,
           "gridcolor": "white",
           "linecolor": "white",
           "ticks": "",
           "title": {
            "standoff": 15
           },
           "zerolinecolor": "white",
           "zerolinewidth": 2
          },
          "yaxis": {
           "automargin": true,
           "gridcolor": "white",
           "linecolor": "white",
           "ticks": "",
           "title": {
            "standoff": 15
           },
           "zerolinecolor": "white",
           "zerolinewidth": 2
          }
         }
        },
        "title": {
         "text": "Sales Volume vs. Avg. Freight Value (Correlation: -0.13)"
        },
        "xaxis": {
         "anchor": "y",
         "domain": [
          0,
          1
         ],
         "title": {
          "text": "Average Freight Value (R$)"
         }
        },
        "yaxis": {
         "anchor": "x",
         "domain": [
          0,
          1
         ],
         "title": {
          "text": "Total Number of Items Sold"
         }
        }
       }
      }
     },
     "metadata": {},
     "output_type": "display_data"
    },
    {
     "name": "stdout",
     "output_type": "stream",
     "text": [
      "Analyzing: Number of Photos vs. Sales Revenue...\n"
     ]
    },
    {
     "data": {
      "application/vnd.plotly.v1+json": {
       "config": {
        "plotlyServerURL": "https://plot.ly"
       },
       "data": [
        {
         "alignmentgroup": "True",
         "hovertemplate": "Number of Photos=%{x}<br>Total Revenue (R$)=%{y}<extra></extra>",
         "legendgroup": "",
         "marker": {
          "color": "#636efa",
          "pattern": {
           "shape": ""
          }
         },
         "name": "",
         "offsetgroup": "",
         "orientation": "v",
         "showlegend": false,
         "textposition": "auto",
         "type": "bar",
         "x": [
          1,
          2,
          3,
          4,
          5,
          6,
          7,
          8,
          9,
          10,
          11,
          12,
          13,
          14,
          15,
          17,
          18,
          19,
          20
         ],
         "xaxis": "x",
         "y": [
          6357418.4,
          2439610.6,
          1669578.62,
          1214544.28,
          719766.92,
          493948.8,
          237464.86000000002,
          107276.26,
          38598.08,
          51216.77,
          5342.27,
          2551.98,
          1236.78,
          1500.87,
          1043.77,
          841,
          354.4,
          277.88,
          110.27
         ],
         "yaxis": "y"
        }
       ],
       "layout": {
        "barmode": "relative",
        "legend": {
         "tracegroupgap": 0
        },
        "template": {
         "data": {
          "bar": [
           {
            "error_x": {
             "color": "#2a3f5f"
            },
            "error_y": {
             "color": "#2a3f5f"
            },
            "marker": {
             "line": {
              "color": "#E5ECF6",
              "width": 0.5
             },
             "pattern": {
              "fillmode": "overlay",
              "size": 10,
              "solidity": 0.2
             }
            },
            "type": "bar"
           }
          ],
          "barpolar": [
           {
            "marker": {
             "line": {
              "color": "#E5ECF6",
              "width": 0.5
             },
             "pattern": {
              "fillmode": "overlay",
              "size": 10,
              "solidity": 0.2
             }
            },
            "type": "barpolar"
           }
          ],
          "carpet": [
           {
            "aaxis": {
             "endlinecolor": "#2a3f5f",
             "gridcolor": "white",
             "linecolor": "white",
             "minorgridcolor": "white",
             "startlinecolor": "#2a3f5f"
            },
            "baxis": {
             "endlinecolor": "#2a3f5f",
             "gridcolor": "white",
             "linecolor": "white",
             "minorgridcolor": "white",
             "startlinecolor": "#2a3f5f"
            },
            "type": "carpet"
           }
          ],
          "choropleth": [
           {
            "colorbar": {
             "outlinewidth": 0,
             "ticks": ""
            },
            "type": "choropleth"
           }
          ],
          "contour": [
           {
            "colorbar": {
             "outlinewidth": 0,
             "ticks": ""
            },
            "colorscale": [
             [
              0,
              "#0d0887"
             ],
             [
              0.1111111111111111,
              "#46039f"
             ],
             [
              0.2222222222222222,
              "#7201a8"
             ],
             [
              0.3333333333333333,
              "#9c179e"
             ],
             [
              0.4444444444444444,
              "#bd3786"
             ],
             [
              0.5555555555555556,
              "#d8576b"
             ],
             [
              0.6666666666666666,
              "#ed7953"
             ],
             [
              0.7777777777777778,
              "#fb9f3a"
             ],
             [
              0.8888888888888888,
              "#fdca26"
             ],
             [
              1,
              "#f0f921"
             ]
            ],
            "type": "contour"
           }
          ],
          "contourcarpet": [
           {
            "colorbar": {
             "outlinewidth": 0,
             "ticks": ""
            },
            "type": "contourcarpet"
           }
          ],
          "heatmap": [
           {
            "colorbar": {
             "outlinewidth": 0,
             "ticks": ""
            },
            "colorscale": [
             [
              0,
              "#0d0887"
             ],
             [
              0.1111111111111111,
              "#46039f"
             ],
             [
              0.2222222222222222,
              "#7201a8"
             ],
             [
              0.3333333333333333,
              "#9c179e"
             ],
             [
              0.4444444444444444,
              "#bd3786"
             ],
             [
              0.5555555555555556,
              "#d8576b"
             ],
             [
              0.6666666666666666,
              "#ed7953"
             ],
             [
              0.7777777777777778,
              "#fb9f3a"
             ],
             [
              0.8888888888888888,
              "#fdca26"
             ],
             [
              1,
              "#f0f921"
             ]
            ],
            "type": "heatmap"
           }
          ],
          "heatmapgl": [
           {
            "colorbar": {
             "outlinewidth": 0,
             "ticks": ""
            },
            "colorscale": [
             [
              0,
              "#0d0887"
             ],
             [
              0.1111111111111111,
              "#46039f"
             ],
             [
              0.2222222222222222,
              "#7201a8"
             ],
             [
              0.3333333333333333,
              "#9c179e"
             ],
             [
              0.4444444444444444,
              "#bd3786"
             ],
             [
              0.5555555555555556,
              "#d8576b"
             ],
             [
              0.6666666666666666,
              "#ed7953"
             ],
             [
              0.7777777777777778,
              "#fb9f3a"
             ],
             [
              0.8888888888888888,
              "#fdca26"
             ],
             [
              1,
              "#f0f921"
             ]
            ],
            "type": "heatmapgl"
           }
          ],
          "histogram": [
           {
            "marker": {
             "pattern": {
              "fillmode": "overlay",
              "size": 10,
              "solidity": 0.2
             }
            },
            "type": "histogram"
           }
          ],
          "histogram2d": [
           {
            "colorbar": {
             "outlinewidth": 0,
             "ticks": ""
            },
            "colorscale": [
             [
              0,
              "#0d0887"
             ],
             [
              0.1111111111111111,
              "#46039f"
             ],
             [
              0.2222222222222222,
              "#7201a8"
             ],
             [
              0.3333333333333333,
              "#9c179e"
             ],
             [
              0.4444444444444444,
              "#bd3786"
             ],
             [
              0.5555555555555556,
              "#d8576b"
             ],
             [
              0.6666666666666666,
              "#ed7953"
             ],
             [
              0.7777777777777778,
              "#fb9f3a"
             ],
             [
              0.8888888888888888,
              "#fdca26"
             ],
             [
              1,
              "#f0f921"
             ]
            ],
            "type": "histogram2d"
           }
          ],
          "histogram2dcontour": [
           {
            "colorbar": {
             "outlinewidth": 0,
             "ticks": ""
            },
            "colorscale": [
             [
              0,
              "#0d0887"
             ],
             [
              0.1111111111111111,
              "#46039f"
             ],
             [
              0.2222222222222222,
              "#7201a8"
             ],
             [
              0.3333333333333333,
              "#9c179e"
             ],
             [
              0.4444444444444444,
              "#bd3786"
             ],
             [
              0.5555555555555556,
              "#d8576b"
             ],
             [
              0.6666666666666666,
              "#ed7953"
             ],
             [
              0.7777777777777778,
              "#fb9f3a"
             ],
             [
              0.8888888888888888,
              "#fdca26"
             ],
             [
              1,
              "#f0f921"
             ]
            ],
            "type": "histogram2dcontour"
           }
          ],
          "mesh3d": [
           {
            "colorbar": {
             "outlinewidth": 0,
             "ticks": ""
            },
            "type": "mesh3d"
           }
          ],
          "parcoords": [
           {
            "line": {
             "colorbar": {
              "outlinewidth": 0,
              "ticks": ""
             }
            },
            "type": "parcoords"
           }
          ],
          "pie": [
           {
            "automargin": true,
            "type": "pie"
           }
          ],
          "scatter": [
           {
            "fillpattern": {
             "fillmode": "overlay",
             "size": 10,
             "solidity": 0.2
            },
            "type": "scatter"
           }
          ],
          "scatter3d": [
           {
            "line": {
             "colorbar": {
              "outlinewidth": 0,
              "ticks": ""
             }
            },
            "marker": {
             "colorbar": {
              "outlinewidth": 0,
              "ticks": ""
             }
            },
            "type": "scatter3d"
           }
          ],
          "scattercarpet": [
           {
            "marker": {
             "colorbar": {
              "outlinewidth": 0,
              "ticks": ""
             }
            },
            "type": "scattercarpet"
           }
          ],
          "scattergeo": [
           {
            "marker": {
             "colorbar": {
              "outlinewidth": 0,
              "ticks": ""
             }
            },
            "type": "scattergeo"
           }
          ],
          "scattergl": [
           {
            "marker": {
             "colorbar": {
              "outlinewidth": 0,
              "ticks": ""
             }
            },
            "type": "scattergl"
           }
          ],
          "scattermapbox": [
           {
            "marker": {
             "colorbar": {
              "outlinewidth": 0,
              "ticks": ""
             }
            },
            "type": "scattermapbox"
           }
          ],
          "scatterpolar": [
           {
            "marker": {
             "colorbar": {
              "outlinewidth": 0,
              "ticks": ""
             }
            },
            "type": "scatterpolar"
           }
          ],
          "scatterpolargl": [
           {
            "marker": {
             "colorbar": {
              "outlinewidth": 0,
              "ticks": ""
             }
            },
            "type": "scatterpolargl"
           }
          ],
          "scatterternary": [
           {
            "marker": {
             "colorbar": {
              "outlinewidth": 0,
              "ticks": ""
             }
            },
            "type": "scatterternary"
           }
          ],
          "surface": [
           {
            "colorbar": {
             "outlinewidth": 0,
             "ticks": ""
            },
            "colorscale": [
             [
              0,
              "#0d0887"
             ],
             [
              0.1111111111111111,
              "#46039f"
             ],
             [
              0.2222222222222222,
              "#7201a8"
             ],
             [
              0.3333333333333333,
              "#9c179e"
             ],
             [
              0.4444444444444444,
              "#bd3786"
             ],
             [
              0.5555555555555556,
              "#d8576b"
             ],
             [
              0.6666666666666666,
              "#ed7953"
             ],
             [
              0.7777777777777778,
              "#fb9f3a"
             ],
             [
              0.8888888888888888,
              "#fdca26"
             ],
             [
              1,
              "#f0f921"
             ]
            ],
            "type": "surface"
           }
          ],
          "table": [
           {
            "cells": {
             "fill": {
              "color": "#EBF0F8"
             },
             "line": {
              "color": "white"
             }
            },
            "header": {
             "fill": {
              "color": "#C8D4E3"
             },
             "line": {
              "color": "white"
             }
            },
            "type": "table"
           }
          ]
         },
         "layout": {
          "annotationdefaults": {
           "arrowcolor": "#2a3f5f",
           "arrowhead": 0,
           "arrowwidth": 1
          },
          "autotypenumbers": "strict",
          "coloraxis": {
           "colorbar": {
            "outlinewidth": 0,
            "ticks": ""
           }
          },
          "colorscale": {
           "diverging": [
            [
             0,
             "#8e0152"
            ],
            [
             0.1,
             "#c51b7d"
            ],
            [
             0.2,
             "#de77ae"
            ],
            [
             0.3,
             "#f1b6da"
            ],
            [
             0.4,
             "#fde0ef"
            ],
            [
             0.5,
             "#f7f7f7"
            ],
            [
             0.6,
             "#e6f5d0"
            ],
            [
             0.7,
             "#b8e186"
            ],
            [
             0.8,
             "#7fbc41"
            ],
            [
             0.9,
             "#4d9221"
            ],
            [
             1,
             "#276419"
            ]
           ],
           "sequential": [
            [
             0,
             "#0d0887"
            ],
            [
             0.1111111111111111,
             "#46039f"
            ],
            [
             0.2222222222222222,
             "#7201a8"
            ],
            [
             0.3333333333333333,
             "#9c179e"
            ],
            [
             0.4444444444444444,
             "#bd3786"
            ],
            [
             0.5555555555555556,
             "#d8576b"
            ],
            [
             0.6666666666666666,
             "#ed7953"
            ],
            [
             0.7777777777777778,
             "#fb9f3a"
            ],
            [
             0.8888888888888888,
             "#fdca26"
            ],
            [
             1,
             "#f0f921"
            ]
           ],
           "sequentialminus": [
            [
             0,
             "#0d0887"
            ],
            [
             0.1111111111111111,
             "#46039f"
            ],
            [
             0.2222222222222222,
             "#7201a8"
            ],
            [
             0.3333333333333333,
             "#9c179e"
            ],
            [
             0.4444444444444444,
             "#bd3786"
            ],
            [
             0.5555555555555556,
             "#d8576b"
            ],
            [
             0.6666666666666666,
             "#ed7953"
            ],
            [
             0.7777777777777778,
             "#fb9f3a"
            ],
            [
             0.8888888888888888,
             "#fdca26"
            ],
            [
             1,
             "#f0f921"
            ]
           ]
          },
          "colorway": [
           "#636efa",
           "#EF553B",
           "#00cc96",
           "#ab63fa",
           "#FFA15A",
           "#19d3f3",
           "#FF6692",
           "#B6E880",
           "#FF97FF",
           "#FECB52"
          ],
          "font": {
           "color": "#2a3f5f"
          },
          "geo": {
           "bgcolor": "white",
           "lakecolor": "white",
           "landcolor": "#E5ECF6",
           "showlakes": true,
           "showland": true,
           "subunitcolor": "white"
          },
          "hoverlabel": {
           "align": "left"
          },
          "hovermode": "closest",
          "mapbox": {
           "style": "light"
          },
          "paper_bgcolor": "white",
          "plot_bgcolor": "#E5ECF6",
          "polar": {
           "angularaxis": {
            "gridcolor": "white",
            "linecolor": "white",
            "ticks": ""
           },
           "bgcolor": "#E5ECF6",
           "radialaxis": {
            "gridcolor": "white",
            "linecolor": "white",
            "ticks": ""
           }
          },
          "scene": {
           "xaxis": {
            "backgroundcolor": "#E5ECF6",
            "gridcolor": "white",
            "gridwidth": 2,
            "linecolor": "white",
            "showbackground": true,
            "ticks": "",
            "zerolinecolor": "white"
           },
           "yaxis": {
            "backgroundcolor": "#E5ECF6",
            "gridcolor": "white",
            "gridwidth": 2,
            "linecolor": "white",
            "showbackground": true,
            "ticks": "",
            "zerolinecolor": "white"
           },
           "zaxis": {
            "backgroundcolor": "#E5ECF6",
            "gridcolor": "white",
            "gridwidth": 2,
            "linecolor": "white",
            "showbackground": true,
            "ticks": "",
            "zerolinecolor": "white"
           }
          },
          "shapedefaults": {
           "line": {
            "color": "#2a3f5f"
           }
          },
          "ternary": {
           "aaxis": {
            "gridcolor": "white",
            "linecolor": "white",
            "ticks": ""
           },
           "baxis": {
            "gridcolor": "white",
            "linecolor": "white",
            "ticks": ""
           },
           "bgcolor": "#E5ECF6",
           "caxis": {
            "gridcolor": "white",
            "linecolor": "white",
            "ticks": ""
           }
          },
          "title": {
           "x": 0.05
          },
          "xaxis": {
           "automargin": true,
           "gridcolor": "white",
           "linecolor": "white",
           "ticks": "",
           "title": {
            "standoff": 15
           },
           "zerolinecolor": "white",
           "zerolinewidth": 2
          },
          "yaxis": {
           "automargin": true,
           "gridcolor": "white",
           "linecolor": "white",
           "ticks": "",
           "title": {
            "standoff": 15
           },
           "zerolinecolor": "white",
           "zerolinewidth": 2
          }
         }
        },
        "title": {
         "text": "Total Revenue by Number of Photos (Correlation: 0.05)"
        },
        "xaxis": {
         "anchor": "y",
         "domain": [
          0,
          1
         ],
         "title": {
          "text": "Number of Photos"
         }
        },
        "yaxis": {
         "anchor": "x",
         "domain": [
          0,
          1
         ],
         "title": {
          "text": "Total Revenue (R$)"
         }
        }
       }
      }
     },
     "metadata": {},
     "output_type": "display_data"
    },
    {
     "name": "stdout",
     "output_type": "stream",
     "text": [
      "\n",
      "All analyses complete. Check your browser for the plots.\n"
     ]
    }
   ],
   "source": [
    "import pandas as pd\n",
    "import plotly.express as px\n",
    "import numpy as np\n",
    "\n",
    "# --- 1. Data Loading ---\n",
    "def load_data():\n",
    "    \"\"\"Loads all necessary e-commerce datasets.\"\"\"\n",
    "    path = \"E-commerce/\"\n",
    "    try:\n",
    "        orders = pd.read_csv(path + \"orders_dataset.csv\")\n",
    "        order_items = pd.read_csv(path + \"order_items_dataset.csv\")\n",
    "        products = pd.read_csv(path + \"products_dataset.csv\")\n",
    "        reviews = pd.read_csv(path + \"order_reviews_dataset.csv\")\n",
    "        cat_trans = pd.read_csv(path + \"product_category_name_translation.csv\")\n",
    "    except FileNotFoundError as e:\n",
    "        print(f\"Error loading data: {e}\")\n",
    "        print(\"Please make sure the script is in the correct folder and the 'E-commerce' directory exists.\")\n",
    "        return None\n",
    "    return orders, order_items, products, reviews, cat_trans\n",
    "\n",
    "# --- 2. Analysis Functions ---\n",
    "\n",
    "def plot_freight_vs_score(df):\n",
    "    \"\"\"Analyzes and plots how freight value impacts review scores.\"\"\"\n",
    "    print(\"Analyzing: Freight Value vs. Review Score...\")\n",
    "    \n",
    "    order_freight = df.groupby('order_id')['freight_value'].sum().reset_index()\n",
    "    df_analysis = df[['order_id', 'review_score']].drop_duplicates().merge(order_freight, on='order_id')\n",
    "    df_analysis.dropna(inplace=True)\n",
    "\n",
    "    # <-- ADDED: Calculate correlation on the unbinned data -->\n",
    "    correlation = df_analysis['freight_value'].corr(df_analysis['review_score'])\n",
    "\n",
    "    bins = [0, 10, 20, 30, 40, 50, np.inf]\n",
    "    labels = [\"0-10\", \"10-20\", \"20-30\", \"30-40\", \"40-50\", \"50+\"]\n",
    "    df_analysis['freight_bin'] = pd.cut(df_analysis['freight_value'], bins=bins, labels=labels, right=False)\n",
    "    \n",
    "    binned_scores = df_analysis.groupby('freight_bin')['review_score'].mean().reset_index()\n",
    "    \n",
    "    fig = px.bar(\n",
    "        binned_scores,\n",
    "        x='freight_bin',\n",
    "        y='review_score',\n",
    "        # <-- ADDED: Correlation added to title -->\n",
    "        title=f\"Average Review Score vs. Shipping Cost (Correlation: {correlation:.2f})\",\n",
    "        labels={'freight_bin': 'Freight Value (R$)', 'review_score': 'Average Review Score'},\n",
    "        text_auto='.2f'\n",
    "    )\n",
    "    fig.show()\n",
    "\n",
    "def plot_photos_vs_score(df):\n",
    "    \"\"\"Analyzes and plots how the number of product photos impacts review scores.\"\"\"\n",
    "    print(\"Analyzing: Number of Photos vs. Review Score...\")\n",
    "    \n",
    "    # <-- ADDED: Calculate correlation on the raw data -->\n",
    "    correlation = df['product_photos_qty'].corr(df['review_score'])\n",
    "    \n",
    "    df_analysis = df.groupby('product_photos_qty')['review_score'].mean().reset_index()\n",
    "    \n",
    "    fig = px.bar(\n",
    "        df_analysis,\n",
    "        x='product_photos_qty',\n",
    "        y='review_score',\n",
    "        # <-- ADDED: Correlation added to title -->\n",
    "        title=f\"Average Review Score by Number of Photos (Correlation: {correlation:.2f})\",\n",
    "        labels={'product_photos_qty': 'Number of Photos', 'review_score': 'Average Review Score'},\n",
    "        text_auto='.2f'\n",
    "    )\n",
    "    fig.show()\n",
    "\n",
    "def plot_freight_vs_sales(df):\n",
    "    \"\"\"Analyzes and plots how freight value impacts sales volume and revenue.\"\"\"\n",
    "    print(\"Analyzing: Freight Value vs. Sales...\")\n",
    "\n",
    "    df_analysis = df.groupby('product_category_name_english').agg(\n",
    "        avg_freight=('freight_value', 'mean'),\n",
    "        total_revenue=('price', 'sum'),\n",
    "        number_of_sales=('order_id', 'count')\n",
    "    ).reset_index()\n",
    "\n",
    "    # <-- ADDED: Calculate correlation on the aggregated category data -->\n",
    "    correlation = df_analysis['avg_freight'].corr(df_analysis['number_of_sales'])\n",
    "\n",
    "    fig = px.scatter(\n",
    "        df_analysis,\n",
    "        x='avg_freight',\n",
    "        y='number_of_sales',\n",
    "        size='total_revenue',\n",
    "        hover_name='product_category_name_english',\n",
    "        # <-- ADDED: Correlation added to title -->\n",
    "        title=f\"Sales Volume vs. Avg. Freight Value (Correlation: {correlation:.2f})\",\n",
    "        labels={'avg_freight': 'Average Freight Value (R$)', 'number_of_sales': 'Total Number of Items Sold'}\n",
    "    )\n",
    "    fig.show()\n",
    "\n",
    "def plot_photos_vs_sales(df):\n",
    "    \"\"\"Analyzes and plots how the number of product photos impacts sales revenue.\"\"\"\n",
    "    print(\"Analyzing: Number of Photos vs. Sales Revenue...\")\n",
    "\n",
    "    # <-- ADDED: Calculate correlation on the raw data -->\n",
    "    correlation = df['product_photos_qty'].corr(df['price'])\n",
    "\n",
    "    df_analysis = df.groupby('product_photos_qty')['price'].sum().reset_index()\n",
    "    df_analysis.rename(columns={'price': 'total_revenue'}, inplace=True)\n",
    "    \n",
    "    fig = px.bar(\n",
    "        df_analysis,\n",
    "        x='product_photos_qty',\n",
    "        y='total_revenue',\n",
    "        # <-- ADDED: Correlation added to title -->\n",
    "        title=f\"Total Revenue by Number of Photos (Correlation: {correlation:.2f})\",\n",
    "        labels={'product_photos_qty': 'Number of Photos', 'total_revenue': 'Total Revenue (R$)'}\n",
    "    )\n",
    "    fig.show()\n",
    "\n",
    "# --- 3. Main Execution ---\n",
    "if __name__ == \"__main__\":\n",
    "    # Load the data\n",
    "    data = load_data()\n",
    "    if data:\n",
    "        orders, order_items, products, reviews, cat_trans = data\n",
    "\n",
    "        # Prepare a master DataFrame for analysis\n",
    "        print(\"Preparing master data file for analysis...\")\n",
    "        items_products = order_items.merge(products, on='product_id', how='left')\n",
    "        items_translated = items_products.merge(cat_trans, on='product_category_name', how='left')\n",
    "        df_merged = items_translated.merge(reviews, on='order_id', how='left')\n",
    "        df_merged.dropna(subset=['review_score', 'product_photos_qty', 'product_category_name_english'], inplace=True)\n",
    "        print(\"Data preparation complete.\")\n",
    "\n",
    "        # Run and display all analyses\n",
    "        plot_freight_vs_score(df_merged)\n",
    "        plot_photos_vs_score(df_merged)\n",
    "        plot_freight_vs_sales(df_merged)\n",
    "        plot_photos_vs_sales(df_merged)\n",
    "\n",
    "        print(\"\\nAll analyses complete. Check your browser for the plots.\")"
   ]
  },
  {
   "cell_type": "code",
   "execution_count": null,
   "id": "0350ce92",
   "metadata": {},
   "outputs": [],
   "source": [
    "import pandas as pd\n",
    "import numpy as np\n",
    "import plotly.express as px\n",
    "\n",
    "# --- 1. Data Loading ---\n",
    "def load_data():\n",
    "    \"\"\"Loads all necessary e-commerce datasets.\"\"\"\n",
    "    path = \"E-commerce/\"\n",
    "    try:\n",
    "        orders = pd.read_csv(path + \"orders_dataset.csv\")\n",
    "        order_items = pd.read_csv(path + \"order_items_dataset.csv\")\n",
    "        customers = pd.read_csv(path + \"customers_dataset.csv\")\n",
    "        sellers = pd.read_csv(path + \"sellers_dataset.csv\")\n",
    "        reviews = pd.read_csv(path + \"order_reviews_dataset.csv\")\n",
    "        geolocation = pd.read_csv(path + \"geolocation_dataset.csv\")\n",
    "    except FileNotFoundError as e:\n",
    "        print(f\"Error loading data: {e}\")\n",
    "        return None\n",
    "    return orders, order_items, customers, sellers, reviews, geolocation\n",
    "\n",
    "# --- 2. Distance Calculation Function ---\n",
    "def haversine_distance(lat1, lon1, lat2, lon2):\n",
    "    \"\"\"Calculates the distance between two points on Earth in kilometers.\"\"\"\n",
    "    R = 6371  # Earth radius in kilometers\n",
    "    \n",
    "    # Convert degrees to radians\n",
    "    lat1, lon1, lat2, lon2 = map(np.radians, [lat1, lon1, lat2, lon2])\n",
    "    \n",
    "    dlon = lon2 - lon1\n",
    "    dlat = lat2 - lat1\n",
    "    \n",
    "    a = np.sin(dlat / 2)**2 + np.cos(lat1) * np.cos(lat2) * np.sin(dlon / 2)**2\n",
    "    c = 2 * np.arctan2(np.sqrt(a), np.sqrt(1 - a))\n",
    "    \n",
    "    distance = R * c\n",
    "    return distance\n",
    "\n",
    "# --- 3. Main Execution ---\n",
    "if __name__ == \"__main__\":\n",
    "    # Load the data\n",
    "    data = load_data()\n",
    "    if data:\n",
    "        orders, order_items, customers, sellers, reviews, geolocation = data\n",
    "\n",
    "        # --- Data Preparation ---\n",
    "        print(\"Preparing data... (This may take a moment)\")\n",
    "        \n",
    "        # 1. Prepare geolocation data (get one coordinate pair per zip prefix)\n",
    "        geo = geolocation.groupby('geolocation_zip_code_prefix').agg({\n",
    "            'geolocation_lat': 'mean',\n",
    "            'geolocation_lng': 'mean'\n",
    "        }).reset_index()\n",
    "\n",
    "        # 2. Get coordinates for customers and sellers\n",
    "        customers_geo = customers.merge(geo, left_on='customer_zip_code_prefix', right_on='geolocation_zip_code_prefix')\n",
    "        sellers_geo = sellers.merge(geo, left_on='seller_zip_code_prefix', right_on='geolocation_zip_code_prefix')\n",
    "\n",
    "        # 3. Create a master order table with locations\n",
    "        # For simplicity, we'll use the first seller for orders with multiple sellers\n",
    "        order_sellers = order_items.drop_duplicates(subset='order_id', keep='first')[['order_id', 'seller_id']]\n",
    "        \n",
    "        df_merged = orders.merge(customers_geo[['customer_id', 'geolocation_lat', 'geolocation_lng']], on='customer_id')\n",
    "        df_merged = df_merged.merge(order_sellers, on='order_id')\n",
    "        df_merged = df_merged.merge(sellers_geo[['seller_id', 'geolocation_lat', 'geolocation_lng']], on='seller_id', suffixes=('_customer', '_seller'))\n",
    "\n",
    "        # 4. Calculate the distance for each order\n",
    "        df_merged['distance_km'] = haversine_distance(\n",
    "            df_merged['geolocation_lat_customer'], df_merged['geolocation_lng_customer'],\n",
    "            df_merged['geolocation_lat_seller'], df_merged['geolocation_lng_seller']\n",
    "        )\n",
    "        \n",
    "        # 5. Link distance to review score\n",
    "        df_analysis = df_merged.merge(reviews[['order_id', 'review_score']], on='order_id').dropna(subset=['distance_km', 'review_score'])\n",
    "        print(\"Data preparation complete.\")\n",
    "\n",
    "        # --- Analysis and Plotting ---\n",
    "        print(\"Analyzing: Order Distance vs. Review Score...\")\n",
    "        \n",
    "        # Calculate overall correlation\n",
    "        correlation = df_analysis['distance_km'].corr(df_analysis['review_score'])\n",
    "        \n",
    "        # Create bins for distance to visualize the trend\n",
    "        bins = [0, 100, 300, 600, 1000, 2000, np.inf]\n",
    "        labels = [\"0-100\", \"100-300\", \"300-600\", \"600-1k\", \"1k-2k\", \"2k+\"]\n",
    "        df_analysis['distance_bin'] = pd.cut(df_analysis['distance_km'], bins=bins, labels=labels, right=False)\n",
    "        \n",
    "        # Calculate average score for each distance bin\n",
    "        binned_scores = df_analysis.groupby('distance_bin')['review_score'].mean().reset_index()\n",
    "        \n",
    "        fig = px.bar(\n",
    "            binned_scores,\n",
    "            x='distance_bin',\n",
    "            y='review_score',\n",
    "            title=f\"Average Review Score by Order Distance (Correlation: {correlation:.2f})\",\n",
    "            labels={'distance_bin': 'Distance from Seller to Customer (km)', 'review_score': 'Average Review Score'},\n",
    "            text_auto='.2f'\n",
    "        )\n",
    "        fig.show()\n",
    "        print(\"\\nAnalysis complete. Check your browser for the plot.\")"
   ]
  }
 ],
 "metadata": {
  "kernelspec": {
   "display_name": "Python 3",
   "language": "python",
   "name": "python3"
  },
  "language_info": {
   "codemirror_mode": {
    "name": "ipython",
    "version": 3
   },
   "file_extension": ".py",
   "mimetype": "text/x-python",
   "name": "python",
   "nbconvert_exporter": "python",
   "pygments_lexer": "ipython3",
   "version": "3.11.9"
  }
 },
 "nbformat": 4,
 "nbformat_minor": 5
}
