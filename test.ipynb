{
 "cells": [
  {
   "cell_type": "code",
   "execution_count": 5,
   "id": "ca10610e",
   "metadata": {},
   "outputs": [
    {
     "name": "stdout",
     "output_type": "stream",
     "text": [
      "Data loaded and initial merge complete. The 'items' DataFrame is ready:\n"
     ]
    },
    {
     "data": {
      "text/html": [
       "<div>\n",
       "<style scoped>\n",
       "    .dataframe tbody tr th:only-of-type {\n",
       "        vertical-align: middle;\n",
       "    }\n",
       "\n",
       "    .dataframe tbody tr th {\n",
       "        vertical-align: top;\n",
       "    }\n",
       "\n",
       "    .dataframe thead th {\n",
       "        text-align: right;\n",
       "    }\n",
       "</style>\n",
       "<table border=\"1\" class=\"dataframe\">\n",
       "  <thead>\n",
       "    <tr style=\"text-align: right;\">\n",
       "      <th></th>\n",
       "      <th>order_id</th>\n",
       "      <th>order_item_id</th>\n",
       "      <th>product_id</th>\n",
       "      <th>seller_id</th>\n",
       "      <th>shipping_limit_date</th>\n",
       "      <th>price</th>\n",
       "      <th>freight_value</th>\n",
       "      <th>product_category_name</th>\n",
       "      <th>product_category_name_english</th>\n",
       "    </tr>\n",
       "  </thead>\n",
       "  <tbody>\n",
       "    <tr>\n",
       "      <th>0</th>\n",
       "      <td>00010242fe8c5a6d1ba2dd792cb16214</td>\n",
       "      <td>1</td>\n",
       "      <td>4244733e06e7ecb4970a6e2683c13e61</td>\n",
       "      <td>48436dade18ac8b2bce089ec2a041202</td>\n",
       "      <td>2017-09-19 09:45:35</td>\n",
       "      <td>58.90</td>\n",
       "      <td>13.29</td>\n",
       "      <td>cool_stuff</td>\n",
       "      <td>cool_stuff</td>\n",
       "    </tr>\n",
       "    <tr>\n",
       "      <th>1</th>\n",
       "      <td>00018f77f2f0320c557190d7a144bdd3</td>\n",
       "      <td>1</td>\n",
       "      <td>e5f2d52b802189ee658865ca93d83a8f</td>\n",
       "      <td>dd7ddc04e1b6c2c614352b383efe2d36</td>\n",
       "      <td>2017-05-03 11:05:13</td>\n",
       "      <td>239.90</td>\n",
       "      <td>19.93</td>\n",
       "      <td>pet_shop</td>\n",
       "      <td>pet_shop</td>\n",
       "    </tr>\n",
       "    <tr>\n",
       "      <th>2</th>\n",
       "      <td>000229ec398224ef6ca0657da4fc703e</td>\n",
       "      <td>1</td>\n",
       "      <td>c777355d18b72b67abbeef9df44fd0fd</td>\n",
       "      <td>5b51032eddd242adc84c38acab88f23d</td>\n",
       "      <td>2018-01-18 14:48:30</td>\n",
       "      <td>199.00</td>\n",
       "      <td>17.87</td>\n",
       "      <td>moveis_decoracao</td>\n",
       "      <td>furniture_decor</td>\n",
       "    </tr>\n",
       "    <tr>\n",
       "      <th>3</th>\n",
       "      <td>00024acbcdf0a6daa1e931b038114c75</td>\n",
       "      <td>1</td>\n",
       "      <td>7634da152a4610f1595efa32f14722fc</td>\n",
       "      <td>9d7a1d34a5052409006425275ba1c2b4</td>\n",
       "      <td>2018-08-15 10:10:18</td>\n",
       "      <td>12.99</td>\n",
       "      <td>12.79</td>\n",
       "      <td>perfumaria</td>\n",
       "      <td>perfumery</td>\n",
       "    </tr>\n",
       "    <tr>\n",
       "      <th>4</th>\n",
       "      <td>00042b26cf59d7ce69dfabb4e55b4fd9</td>\n",
       "      <td>1</td>\n",
       "      <td>ac6c3623068f30de03045865e4e10089</td>\n",
       "      <td>df560393f3a51e74553ab94004ba5c87</td>\n",
       "      <td>2017-02-13 13:57:51</td>\n",
       "      <td>199.90</td>\n",
       "      <td>18.14</td>\n",
       "      <td>ferramentas_jardim</td>\n",
       "      <td>garden_tools</td>\n",
       "    </tr>\n",
       "  </tbody>\n",
       "</table>\n",
       "</div>"
      ],
      "text/plain": [
       "                           order_id  order_item_id  \\\n",
       "0  00010242fe8c5a6d1ba2dd792cb16214              1   \n",
       "1  00018f77f2f0320c557190d7a144bdd3              1   \n",
       "2  000229ec398224ef6ca0657da4fc703e              1   \n",
       "3  00024acbcdf0a6daa1e931b038114c75              1   \n",
       "4  00042b26cf59d7ce69dfabb4e55b4fd9              1   \n",
       "\n",
       "                         product_id                         seller_id  \\\n",
       "0  4244733e06e7ecb4970a6e2683c13e61  48436dade18ac8b2bce089ec2a041202   \n",
       "1  e5f2d52b802189ee658865ca93d83a8f  dd7ddc04e1b6c2c614352b383efe2d36   \n",
       "2  c777355d18b72b67abbeef9df44fd0fd  5b51032eddd242adc84c38acab88f23d   \n",
       "3  7634da152a4610f1595efa32f14722fc  9d7a1d34a5052409006425275ba1c2b4   \n",
       "4  ac6c3623068f30de03045865e4e10089  df560393f3a51e74553ab94004ba5c87   \n",
       "\n",
       "   shipping_limit_date   price  freight_value product_category_name  \\\n",
       "0  2017-09-19 09:45:35   58.90          13.29            cool_stuff   \n",
       "1  2017-05-03 11:05:13  239.90          19.93              pet_shop   \n",
       "2  2018-01-18 14:48:30  199.00          17.87      moveis_decoracao   \n",
       "3  2018-08-15 10:10:18   12.99          12.79            perfumaria   \n",
       "4  2017-02-13 13:57:51  199.90          18.14    ferramentas_jardim   \n",
       "\n",
       "  product_category_name_english  \n",
       "0                    cool_stuff  \n",
       "1                      pet_shop  \n",
       "2               furniture_decor  \n",
       "3                     perfumery  \n",
       "4                  garden_tools  "
      ]
     },
     "execution_count": 5,
     "metadata": {},
     "output_type": "execute_result"
    }
   ],
   "source": [
    "# Import necessary libraries\n",
    "import pandas as pd\n",
    "import numpy as np\n",
    "\n",
    "# Define the data loading function (adapted from your Streamlit app)\n",
    "def load_data():\n",
    "    \"\"\"Loads all e-commerce datasets from the specified file path.\"\"\"\n",
    "    # Define file paths\n",
    "    path = \"E-commerce/\"\n",
    "    \n",
    "    # Load datasets\n",
    "    # The corrected line\n",
    "    orders = pd.read_csv(\n",
    "        path + \"orders_dataset.csv\", \n",
    "        parse_dates=[\n",
    "            \"order_purchase_timestamp\", \n",
    "            \"order_approved_at\",          # <-- Add this\n",
    "            \"order_delivered_carrier_date\", # <-- Add this\n",
    "            \"order_delivered_customer_date\",\n",
    "            \"order_estimated_delivery_date\"\n",
    "        ]\n",
    "    )\n",
    "    order_items = pd.read_csv(path + \"order_items_dataset.csv\")\n",
    "    products = pd.read_csv(path + \"products_dataset.csv\")\n",
    "    cat_trans = pd.read_csv(path + \"product_category_name_translation.csv\")\n",
    "    customers = pd.read_csv(path + \"customers_dataset.csv\")\n",
    "    payments = pd.read_csv(path + \"order_payments_dataset.csv\")\n",
    "    reviews = pd.read_csv(path + \"order_reviews_dataset.csv\", parse_dates=[\"review_creation_date\", \"review_answer_timestamp\"])\n",
    "    mql = pd.read_csv(path + \"marketing_qualified_leads_dataset.csv\", parse_dates=[\"first_contact_date\"])\n",
    "    deals = pd.read_csv(path + \"closed_deals_dataset.csv\", parse_dates=[\"won_date\"])\n",
    "    geolocation = pd.read_csv(path + \"geolocation_dataset.csv\")\n",
    "    sellers = pd.read_csv(path + \"sellers_dataset.csv\")\n",
    "    \n",
    "    return orders, order_items, products, cat_trans, customers, payments, reviews, mql, deals, geolocation, sellers\n",
    "\n",
    "# --- Load all data into variables ---\n",
    "orders, order_items, products, cat_trans, customers, payments, reviews, mql, deals, geolocation, sellers = load_data()\n",
    "\n",
    "# --- Perform initial merge to create the 'items' DataFrame ---\n",
    "# This is the same merge helper from your app\n",
    "items = order_items.merge(products[[\"product_id\", \"product_category_name\"]], on=\"product_id\", how=\"left\")\n",
    "items = items.merge(cat_trans, on=\"product_category_name\", how=\"left\")\n",
    "\n",
    "# --- Verification Step ---\n",
    "# You can now use all these DataFrames for exploration.\n",
    "# For example, let's display the first few rows of the 'items' DataFrame to confirm it's loaded.\n",
    "print(\"Data loaded and initial merge complete. The 'items' DataFrame is ready:\")\n",
    "items.head()"
   ]
  },
  {
   "cell_type": "code",
   "execution_count": 6,
   "id": "76328124",
   "metadata": {},
   "outputs": [
    {
     "name": "stdout",
     "output_type": "stream",
     "text": [
      "['delivered' 'invoiced' 'shipped' 'processing' 'unavailable' 'canceled'\n",
      " 'created' 'approved']\n"
     ]
    }
   ],
   "source": [
    "# Code to run in your notebook\n",
    "print(orders['order_status'].unique())"
   ]
  },
  {
   "cell_type": "code",
   "execution_count": 7,
   "id": "e0e48547",
   "metadata": {},
   "outputs": [
    {
     "data": {
      "application/vnd.plotly.v1+json": {
       "config": {
        "plotlyServerURL": "https://plot.ly"
       },
       "data": [
        {
         "alignmentgroup": "True",
         "hovertemplate": "Delivery Stage=processing_time<br>Product Category=%{x}<br>Average Duration (Days)=%{y}<extra></extra>",
         "legendgroup": "processing_time",
         "marker": {
          "color": "#636efa",
          "pattern": {
           "shape": ""
          }
         },
         "name": "processing_time",
         "offsetgroup": "processing_time",
         "orientation": "v",
         "showlegend": true,
         "textposition": "auto",
         "type": "bar",
         "x": [
          "auto",
          "bed_bath_table",
          "computers_accessories",
          "cool_stuff",
          "furniture_decor",
          "garden_tools",
          "health_beauty",
          "housewares",
          "sports_leisure",
          "watches_gifts"
         ],
         "xaxis": "x",
         "y": [
          0.42739171281645566,
          0.38841328611777826,
          0.4707313514957265,
          0.43012935922880635,
          0.47122709045411976,
          0.48221598924591164,
          0.4387311047324625,
          0.40135611602724386,
          0.39803543076329534,
          0.4150174584433611
         ],
         "yaxis": "y"
        },
        {
         "alignmentgroup": "True",
         "hovertemplate": "Delivery Stage=seller_handling_time<br>Product Category=%{x}<br>Average Duration (Days)=%{y}<extra></extra>",
         "legendgroup": "seller_handling_time",
         "marker": {
          "color": "#EF553B",
          "pattern": {
           "shape": ""
          }
         },
         "name": "seller_handling_time",
         "offsetgroup": "seller_handling_time",
         "orientation": "v",
         "showlegend": true,
         "textposition": "auto",
         "type": "bar",
         "x": [
          "auto",
          "bed_bath_table",
          "computers_accessories",
          "cool_stuff",
          "furniture_decor",
          "garden_tools",
          "health_beauty",
          "housewares",
          "sports_leisure",
          "watches_gifts"
         ],
         "xaxis": "x",
         "y": [
          2.489707428040514,
          2.771027717419853,
          3.121566987179487,
          2.4527994426592743,
          3.2580558444879895,
          2.619514607817604,
          2.6240528405961725,
          2.662217318298432,
          2.355540265659623,
          2.47304527642359
         ],
         "yaxis": "y"
        },
        {
         "alignmentgroup": "True",
         "hovertemplate": "Delivery Stage=carrier_shipping_time<br>Product Category=%{x}<br>Average Duration (Days)=%{y}<extra></extra>",
         "legendgroup": "carrier_shipping_time",
         "marker": {
          "color": "#00cc96",
          "pattern": {
           "shape": ""
          }
         },
         "name": "carrier_shipping_time",
         "offsetgroup": "carrier_shipping_time",
         "orientation": "v",
         "showlegend": true,
         "textposition": "auto",
         "type": "bar",
         "x": [
          "auto",
          "bed_bath_table",
          "computers_accessories",
          "cool_stuff",
          "furniture_decor",
          "garden_tools",
          "health_beauty",
          "housewares",
          "sports_leisure",
          "watches_gifts"
         ],
         "xaxis": "x",
         "y": [
          9.42220460777563,
          9.872777477250871,
          9.59299357371795,
          9.513685612444739,
          9.37202270412424,
          10.576418466701393,
          9.038422233731756,
          8.046312835338854,
          9.503608876053537,
          9.93684957512357
         ],
         "yaxis": "y"
        }
       ],
       "layout": {
        "barmode": "relative",
        "legend": {
         "title": {
          "text": "Delivery Stage"
         },
         "tracegroupgap": 0
        },
        "template": {
         "data": {
          "bar": [
           {
            "error_x": {
             "color": "#2a3f5f"
            },
            "error_y": {
             "color": "#2a3f5f"
            },
            "marker": {
             "line": {
              "color": "#E5ECF6",
              "width": 0.5
             },
             "pattern": {
              "fillmode": "overlay",
              "size": 10,
              "solidity": 0.2
             }
            },
            "type": "bar"
           }
          ],
          "barpolar": [
           {
            "marker": {
             "line": {
              "color": "#E5ECF6",
              "width": 0.5
             },
             "pattern": {
              "fillmode": "overlay",
              "size": 10,
              "solidity": 0.2
             }
            },
            "type": "barpolar"
           }
          ],
          "carpet": [
           {
            "aaxis": {
             "endlinecolor": "#2a3f5f",
             "gridcolor": "white",
             "linecolor": "white",
             "minorgridcolor": "white",
             "startlinecolor": "#2a3f5f"
            },
            "baxis": {
             "endlinecolor": "#2a3f5f",
             "gridcolor": "white",
             "linecolor": "white",
             "minorgridcolor": "white",
             "startlinecolor": "#2a3f5f"
            },
            "type": "carpet"
           }
          ],
          "choropleth": [
           {
            "colorbar": {
             "outlinewidth": 0,
             "ticks": ""
            },
            "type": "choropleth"
           }
          ],
          "contour": [
           {
            "colorbar": {
             "outlinewidth": 0,
             "ticks": ""
            },
            "colorscale": [
             [
              0,
              "#0d0887"
             ],
             [
              0.1111111111111111,
              "#46039f"
             ],
             [
              0.2222222222222222,
              "#7201a8"
             ],
             [
              0.3333333333333333,
              "#9c179e"
             ],
             [
              0.4444444444444444,
              "#bd3786"
             ],
             [
              0.5555555555555556,
              "#d8576b"
             ],
             [
              0.6666666666666666,
              "#ed7953"
             ],
             [
              0.7777777777777778,
              "#fb9f3a"
             ],
             [
              0.8888888888888888,
              "#fdca26"
             ],
             [
              1,
              "#f0f921"
             ]
            ],
            "type": "contour"
           }
          ],
          "contourcarpet": [
           {
            "colorbar": {
             "outlinewidth": 0,
             "ticks": ""
            },
            "type": "contourcarpet"
           }
          ],
          "heatmap": [
           {
            "colorbar": {
             "outlinewidth": 0,
             "ticks": ""
            },
            "colorscale": [
             [
              0,
              "#0d0887"
             ],
             [
              0.1111111111111111,
              "#46039f"
             ],
             [
              0.2222222222222222,
              "#7201a8"
             ],
             [
              0.3333333333333333,
              "#9c179e"
             ],
             [
              0.4444444444444444,
              "#bd3786"
             ],
             [
              0.5555555555555556,
              "#d8576b"
             ],
             [
              0.6666666666666666,
              "#ed7953"
             ],
             [
              0.7777777777777778,
              "#fb9f3a"
             ],
             [
              0.8888888888888888,
              "#fdca26"
             ],
             [
              1,
              "#f0f921"
             ]
            ],
            "type": "heatmap"
           }
          ],
          "heatmapgl": [
           {
            "colorbar": {
             "outlinewidth": 0,
             "ticks": ""
            },
            "colorscale": [
             [
              0,
              "#0d0887"
             ],
             [
              0.1111111111111111,
              "#46039f"
             ],
             [
              0.2222222222222222,
              "#7201a8"
             ],
             [
              0.3333333333333333,
              "#9c179e"
             ],
             [
              0.4444444444444444,
              "#bd3786"
             ],
             [
              0.5555555555555556,
              "#d8576b"
             ],
             [
              0.6666666666666666,
              "#ed7953"
             ],
             [
              0.7777777777777778,
              "#fb9f3a"
             ],
             [
              0.8888888888888888,
              "#fdca26"
             ],
             [
              1,
              "#f0f921"
             ]
            ],
            "type": "heatmapgl"
           }
          ],
          "histogram": [
           {
            "marker": {
             "pattern": {
              "fillmode": "overlay",
              "size": 10,
              "solidity": 0.2
             }
            },
            "type": "histogram"
           }
          ],
          "histogram2d": [
           {
            "colorbar": {
             "outlinewidth": 0,
             "ticks": ""
            },
            "colorscale": [
             [
              0,
              "#0d0887"
             ],
             [
              0.1111111111111111,
              "#46039f"
             ],
             [
              0.2222222222222222,
              "#7201a8"
             ],
             [
              0.3333333333333333,
              "#9c179e"
             ],
             [
              0.4444444444444444,
              "#bd3786"
             ],
             [
              0.5555555555555556,
              "#d8576b"
             ],
             [
              0.6666666666666666,
              "#ed7953"
             ],
             [
              0.7777777777777778,
              "#fb9f3a"
             ],
             [
              0.8888888888888888,
              "#fdca26"
             ],
             [
              1,
              "#f0f921"
             ]
            ],
            "type": "histogram2d"
           }
          ],
          "histogram2dcontour": [
           {
            "colorbar": {
             "outlinewidth": 0,
             "ticks": ""
            },
            "colorscale": [
             [
              0,
              "#0d0887"
             ],
             [
              0.1111111111111111,
              "#46039f"
             ],
             [
              0.2222222222222222,
              "#7201a8"
             ],
             [
              0.3333333333333333,
              "#9c179e"
             ],
             [
              0.4444444444444444,
              "#bd3786"
             ],
             [
              0.5555555555555556,
              "#d8576b"
             ],
             [
              0.6666666666666666,
              "#ed7953"
             ],
             [
              0.7777777777777778,
              "#fb9f3a"
             ],
             [
              0.8888888888888888,
              "#fdca26"
             ],
             [
              1,
              "#f0f921"
             ]
            ],
            "type": "histogram2dcontour"
           }
          ],
          "mesh3d": [
           {
            "colorbar": {
             "outlinewidth": 0,
             "ticks": ""
            },
            "type": "mesh3d"
           }
          ],
          "parcoords": [
           {
            "line": {
             "colorbar": {
              "outlinewidth": 0,
              "ticks": ""
             }
            },
            "type": "parcoords"
           }
          ],
          "pie": [
           {
            "automargin": true,
            "type": "pie"
           }
          ],
          "scatter": [
           {
            "fillpattern": {
             "fillmode": "overlay",
             "size": 10,
             "solidity": 0.2
            },
            "type": "scatter"
           }
          ],
          "scatter3d": [
           {
            "line": {
             "colorbar": {
              "outlinewidth": 0,
              "ticks": ""
             }
            },
            "marker": {
             "colorbar": {
              "outlinewidth": 0,
              "ticks": ""
             }
            },
            "type": "scatter3d"
           }
          ],
          "scattercarpet": [
           {
            "marker": {
             "colorbar": {
              "outlinewidth": 0,
              "ticks": ""
             }
            },
            "type": "scattercarpet"
           }
          ],
          "scattergeo": [
           {
            "marker": {
             "colorbar": {
              "outlinewidth": 0,
              "ticks": ""
             }
            },
            "type": "scattergeo"
           }
          ],
          "scattergl": [
           {
            "marker": {
             "colorbar": {
              "outlinewidth": 0,
              "ticks": ""
             }
            },
            "type": "scattergl"
           }
          ],
          "scattermapbox": [
           {
            "marker": {
             "colorbar": {
              "outlinewidth": 0,
              "ticks": ""
             }
            },
            "type": "scattermapbox"
           }
          ],
          "scatterpolar": [
           {
            "marker": {
             "colorbar": {
              "outlinewidth": 0,
              "ticks": ""
             }
            },
            "type": "scatterpolar"
           }
          ],
          "scatterpolargl": [
           {
            "marker": {
             "colorbar": {
              "outlinewidth": 0,
              "ticks": ""
             }
            },
            "type": "scatterpolargl"
           }
          ],
          "scatterternary": [
           {
            "marker": {
             "colorbar": {
              "outlinewidth": 0,
              "ticks": ""
             }
            },
            "type": "scatterternary"
           }
          ],
          "surface": [
           {
            "colorbar": {
             "outlinewidth": 0,
             "ticks": ""
            },
            "colorscale": [
             [
              0,
              "#0d0887"
             ],
             [
              0.1111111111111111,
              "#46039f"
             ],
             [
              0.2222222222222222,
              "#7201a8"
             ],
             [
              0.3333333333333333,
              "#9c179e"
             ],
             [
              0.4444444444444444,
              "#bd3786"
             ],
             [
              0.5555555555555556,
              "#d8576b"
             ],
             [
              0.6666666666666666,
              "#ed7953"
             ],
             [
              0.7777777777777778,
              "#fb9f3a"
             ],
             [
              0.8888888888888888,
              "#fdca26"
             ],
             [
              1,
              "#f0f921"
             ]
            ],
            "type": "surface"
           }
          ],
          "table": [
           {
            "cells": {
             "fill": {
              "color": "#EBF0F8"
             },
             "line": {
              "color": "white"
             }
            },
            "header": {
             "fill": {
              "color": "#C8D4E3"
             },
             "line": {
              "color": "white"
             }
            },
            "type": "table"
           }
          ]
         },
         "layout": {
          "annotationdefaults": {
           "arrowcolor": "#2a3f5f",
           "arrowhead": 0,
           "arrowwidth": 1
          },
          "autotypenumbers": "strict",
          "coloraxis": {
           "colorbar": {
            "outlinewidth": 0,
            "ticks": ""
           }
          },
          "colorscale": {
           "diverging": [
            [
             0,
             "#8e0152"
            ],
            [
             0.1,
             "#c51b7d"
            ],
            [
             0.2,
             "#de77ae"
            ],
            [
             0.3,
             "#f1b6da"
            ],
            [
             0.4,
             "#fde0ef"
            ],
            [
             0.5,
             "#f7f7f7"
            ],
            [
             0.6,
             "#e6f5d0"
            ],
            [
             0.7,
             "#b8e186"
            ],
            [
             0.8,
             "#7fbc41"
            ],
            [
             0.9,
             "#4d9221"
            ],
            [
             1,
             "#276419"
            ]
           ],
           "sequential": [
            [
             0,
             "#0d0887"
            ],
            [
             0.1111111111111111,
             "#46039f"
            ],
            [
             0.2222222222222222,
             "#7201a8"
            ],
            [
             0.3333333333333333,
             "#9c179e"
            ],
            [
             0.4444444444444444,
             "#bd3786"
            ],
            [
             0.5555555555555556,
             "#d8576b"
            ],
            [
             0.6666666666666666,
             "#ed7953"
            ],
            [
             0.7777777777777778,
             "#fb9f3a"
            ],
            [
             0.8888888888888888,
             "#fdca26"
            ],
            [
             1,
             "#f0f921"
            ]
           ],
           "sequentialminus": [
            [
             0,
             "#0d0887"
            ],
            [
             0.1111111111111111,
             "#46039f"
            ],
            [
             0.2222222222222222,
             "#7201a8"
            ],
            [
             0.3333333333333333,
             "#9c179e"
            ],
            [
             0.4444444444444444,
             "#bd3786"
            ],
            [
             0.5555555555555556,
             "#d8576b"
            ],
            [
             0.6666666666666666,
             "#ed7953"
            ],
            [
             0.7777777777777778,
             "#fb9f3a"
            ],
            [
             0.8888888888888888,
             "#fdca26"
            ],
            [
             1,
             "#f0f921"
            ]
           ]
          },
          "colorway": [
           "#636efa",
           "#EF553B",
           "#00cc96",
           "#ab63fa",
           "#FFA15A",
           "#19d3f3",
           "#FF6692",
           "#B6E880",
           "#FF97FF",
           "#FECB52"
          ],
          "font": {
           "color": "#2a3f5f"
          },
          "geo": {
           "bgcolor": "white",
           "lakecolor": "white",
           "landcolor": "#E5ECF6",
           "showlakes": true,
           "showland": true,
           "subunitcolor": "white"
          },
          "hoverlabel": {
           "align": "left"
          },
          "hovermode": "closest",
          "mapbox": {
           "style": "light"
          },
          "paper_bgcolor": "white",
          "plot_bgcolor": "#E5ECF6",
          "polar": {
           "angularaxis": {
            "gridcolor": "white",
            "linecolor": "white",
            "ticks": ""
           },
           "bgcolor": "#E5ECF6",
           "radialaxis": {
            "gridcolor": "white",
            "linecolor": "white",
            "ticks": ""
           }
          },
          "scene": {
           "xaxis": {
            "backgroundcolor": "#E5ECF6",
            "gridcolor": "white",
            "gridwidth": 2,
            "linecolor": "white",
            "showbackground": true,
            "ticks": "",
            "zerolinecolor": "white"
           },
           "yaxis": {
            "backgroundcolor": "#E5ECF6",
            "gridcolor": "white",
            "gridwidth": 2,
            "linecolor": "white",
            "showbackground": true,
            "ticks": "",
            "zerolinecolor": "white"
           },
           "zaxis": {
            "backgroundcolor": "#E5ECF6",
            "gridcolor": "white",
            "gridwidth": 2,
            "linecolor": "white",
            "showbackground": true,
            "ticks": "",
            "zerolinecolor": "white"
           }
          },
          "shapedefaults": {
           "line": {
            "color": "#2a3f5f"
           }
          },
          "ternary": {
           "aaxis": {
            "gridcolor": "white",
            "linecolor": "white",
            "ticks": ""
           },
           "baxis": {
            "gridcolor": "white",
            "linecolor": "white",
            "ticks": ""
           },
           "bgcolor": "#E5ECF6",
           "caxis": {
            "gridcolor": "white",
            "linecolor": "white",
            "ticks": ""
           }
          },
          "title": {
           "x": 0.05
          },
          "xaxis": {
           "automargin": true,
           "gridcolor": "white",
           "linecolor": "white",
           "ticks": "",
           "title": {
            "standoff": 15
           },
           "zerolinecolor": "white",
           "zerolinewidth": 2
          },
          "yaxis": {
           "automargin": true,
           "gridcolor": "white",
           "linecolor": "white",
           "ticks": "",
           "title": {
            "standoff": 15
           },
           "zerolinecolor": "white",
           "zerolinewidth": 2
          }
         }
        },
        "title": {
         "text": "Average Delivery Stage Duration by Product Category (Top 10)"
        },
        "xaxis": {
         "anchor": "y",
         "domain": [
          0,
          1
         ],
         "title": {
          "text": "Product Category"
         }
        },
        "yaxis": {
         "anchor": "x",
         "domain": [
          0,
          1
         ],
         "title": {
          "text": "Average Duration (Days)"
         }
        }
       }
      }
     },
     "metadata": {},
     "output_type": "display_data"
    }
   ],
   "source": [
    "# --- 1. Filter for relevant orders and calculate stage durations ---\n",
    "# Ensure all timestamps needed are present\n",
    "completed_orders = orders[\n",
    "    orders['order_status'] == 'delivered'\n",
    "].dropna(subset=[\n",
    "    'order_purchase_timestamp', \n",
    "    'order_approved_at', \n",
    "    'order_delivered_carrier_date', \n",
    "    'order_delivered_customer_date'\n",
    "])\n",
    "\n",
    "# Calculate durations in days\n",
    "# Using .dt.total_seconds() / (24 * 3600) is more precise for timedelta\n",
    "completed_orders['processing_time'] = (completed_orders['order_approved_at'] - completed_orders['order_purchase_timestamp']).dt.total_seconds() / (24 * 3600)\n",
    "completed_orders['seller_handling_time'] = (completed_orders['order_delivered_carrier_date'] - completed_orders['order_approved_at']).dt.total_seconds() / (24 * 3600)\n",
    "completed_orders['carrier_shipping_time'] = (completed_orders['order_delivered_customer_date'] - completed_orders['order_delivered_carrier_date']).dt.total_seconds() / (24 * 3600)\n",
    "\n",
    "# --- 2. Merge with product category information ---\n",
    "# We use the 'items' helper DataFrame you already created\n",
    "order_stage_times = completed_orders.merge(items[['order_id', 'product_category_name_english']], on='order_id', how='left')\n",
    "\n",
    "# Drop orders that might have multiple different item categories to keep the analysis simple\n",
    "order_stage_times = order_stage_times.drop_duplicates(subset=['order_id'])\n",
    "\n",
    "\n",
    "# --- 3. Aggregate to find average times per category ---\n",
    "# Focusing on the top 10 categories by revenue for clarity\n",
    "top_10_cats = items.groupby('product_category_name_english')['price'].sum().nlargest(10).index\n",
    "\n",
    "# Filter for top 10 categories\n",
    "avg_times_by_cat = order_stage_times[\n",
    "    order_stage_times['product_category_name_english'].isin(top_10_cats)\n",
    "].groupby('product_category_name_english').agg({\n",
    "    'processing_time': 'mean',\n",
    "    'seller_handling_time': 'mean',\n",
    "    'carrier_shipping_time': 'mean'\n",
    "}).reset_index()\n",
    "\n",
    "\n",
    "# --- 4. Prepare data for plotting and visualize ---\n",
    "# 'Melt' the DataFrame to make it suitable for Plotly Express\n",
    "avg_times_melted = avg_times_by_cat.melt(\n",
    "    id_vars='product_category_name_english',\n",
    "    value_vars=['processing_time', 'seller_handling_time', 'carrier_shipping_time'],\n",
    "    var_name='delivery_stage',\n",
    "    value_name='average_days'\n",
    ")\n",
    "\n",
    "# Create the stacked bar chart\n",
    "import plotly.express as px\n",
    "\n",
    "fig = px.bar(\n",
    "    avg_times_melted,\n",
    "    x='product_category_name_english',\n",
    "    y='average_days',\n",
    "    color='delivery_stage',\n",
    "    title='Average Delivery Stage Duration by Product Category (Top 10)',\n",
    "    labels={\n",
    "        'product_category_name_english': 'Product Category',\n",
    "        'average_days': 'Average Duration (Days)',\n",
    "        'delivery_stage': 'Delivery Stage'\n",
    "    },\n",
    "    category_orders={ # Sort the stages logically\n",
    "        'delivery_stage': ['processing_time', 'seller_handling_time', 'carrier_shipping_time']\n",
    "    }\n",
    ")\n",
    "\n",
    "fig.show()"
   ]
  },
  {
   "cell_type": "code",
   "execution_count": null,
   "id": "ed30d231",
   "metadata": {},
   "outputs": [
    {
     "name": "stdout",
     "output_type": "stream",
     "text": [
      "There are 73 unique city names in the geolocation table.\n",
      "\n",
      "Sample of city names:\n",
      "['sao paulo' 'são paulo' 'sao bernardo do campo' 'jundiaí'\n",
      " 'taboão da serra' 'sãopaulo' 'sp' 'sa£o paulo' 'sao jose dos campos'\n",
      " 'osasco' 'carapicuíba' 'carapicuiba' 'barueri' 'santana de parnaiba'\n",
      " 'pirapora do bom jesus']\n"
     ]
    }
   ],
   "source": [
    "# To get the total count of unique cities\n",
    "city_count = geolocation['geolocation_state'].nunique()\n",
    "print(f\"There are {city_count} unique city names in the geolocation table.\")\n",
    "\n",
    "# To list the first 15 unique city names as an example\n",
    "print(\"\\nSample of city names:\")\n",
    "print(geolocation['geolocation_city'].unique()[:15])"
   ]
  },
  {
   "cell_type": "code",
   "execution_count": null,
   "id": "737b8f26",
   "metadata": {},
   "outputs": [
    {
     "name": "stdout",
     "output_type": "stream",
     "text": [
      "--- Starting Category Debugging Process ---\n",
      "\n",
      "[1/4] Loading reviews from 'E-commerce/order_reviews_dataset.csv'...\n",
      "\n",
      "[2/4] Filtering for negative reviews with comments...\n",
      "\n",
      "[3/4] Categorizing reviews...\n",
      "\n",
      "[4/4] Generating samples for each category...\n",
      "\n",
      "--- SAMPLE REVIEWS PER CATEGORY ---\n",
      "\n",
      "====================\n",
      "CATEGORY: Bad Product Quality / Defective\n",
      "====================\n",
      "1. Infelizmente esta é a 1ªcompra que não foi boa .O cartucho comprado veio com defeito não sendo reconhecido pela impressora.Já mandei um e mail para o site pedindo o cancelamento da venda e a devolução\n",
      "2. O produto veio com defeito na costura\n",
      "3. Recomendo, pois o produto adquirido é muito lindo e com ótimo acabamento... masss... veio uma unidade com o vidro quebrado. E agora? Quem poderá resolver esse pequeno problema? Obrigado... :))\n",
      "4. Produto de péssima qualidade, ja chegou com o cronômetro quebrado e os botões com defeito\n",
      "5. O produto que comprei chegou quebrado e as pilhas totalmente amassadas\n",
      "6. A tampa de cook top chegou toda quebrada. Pedi a devolução. \n",
      "7. o produto chegou quebrado e com marcadas de já ser usado, estou tentando fazer a troca e não to conseguindo\n",
      "8. Verifiquei que o acabamento deixa muito a desejar.\n",
      "9. Olha meu produto veio com defeito,ai mandei para garantia e a garantia veio com defeito tambem.\n",
      "10. A cadeira é confortável, mas tem acabamento incompatível com o preço: peças tortas, rebarbas e manchas. Embalagem frágil: chegou se desfazendo a ponto de cair peças da portaria até o apto. Sem manual.\n",
      "\n",
      "====================\n",
      "CATEGORY: Late Delivery\n",
      "====================\n",
      "1. Prazo orrivevel\n",
      "2. Não posso dizer que gostei dessa loja ou que recomendaria ela pra um amigo, sendo que o meu pedido não chegou no prazo e nem uma explicação recebi. CONTINUO ESPERANDO O MEU PEDIDO . ESPERO RECEBER.\n",
      "3. Nos dias atuais não possui admitir que demore tanto uma entrega tão simples.\n",
      "Vamos nos agilizar gente.\n",
      "4. Chegou o produto atrasado, faltando outro. Falta chegar os demais. O cliente está zangado.\n",
      "5. Comprei uma pasta para notebbok cinza com bolinhas brancas e recebi uma preta, mas não vou efetuar a devolução porque demorou quase um mês para receber, se eu devolver o produto não recebo esse ano.\n",
      "6. O produto veio bem embalado e antes do prazo! Fiquei satisfeita com a entrega! O perfume é um pouco enjoativo! Mas uso bem pouquinho misturado com Essencial masculino. Fica bom!\n",
      "7. Não recebemos o produto dentro do prazo, nem recebemos qualquer comunicado avisando o atraso.\n",
      "8. Quero saber porque tanto atraso na minha encomenda, porque deram previsão de entrega para o dia 23/4 até hoje nada\n",
      "9. Entrega muito demorada! Serviço pode ser melhorado! \n",
      "10. Gostei do produto chegou antes do prazo, mas fiquei triste pq eu tinha feito um pedido antes e foi cancelado recebo um email que tinha sido cancelado por divergências cadastrais super triste.. \n",
      "\n",
      "====================\n",
      "CATEGORY: Missing Items / Partial Delivery\n",
      "====================\n",
      "1. Compramos 6 unidades e foi entregue apenas 1 \n",
      "2. Bom dia, comprei 2 quantidades do produto e me entregaram somente 1. \n",
      "Preciso que entreguem a outra por favor\n",
      "3. das 5 canetinhas só duas funcionam tres não saem tinta\n",
      "\n",
      "4. Comprei 3 produtos e só recebi um.\n",
      "Não recebi nenhum contato da empresa para falar sobre a falta dos outros 2 produtos; se vou receber, ou não.\n",
      "5. Os produtos perdidos apenas o jogo de lençol vermelho chegou e na nora fiscal veio a descrição de dois jogos de cama e só veio um e falta o preto e és toalhas. \n",
      "6. A loja só faturou o mosquiteiro, a garrafa térmica ainda não chegou e não consta na NF. Cadê meu produto!????\n",
      "7. Quero devolver o produto e não consigo. No site diz que a pulseira possui pederneira, mas não tem. Sem dizer que comprei 5 e chegou apenas 1.\n",
      "8. comprei 2 mangueiras e veio apenas 1\n",
      "9. A gente só compra porque se ilude pensando que está comprando na lannister. Quando descobre que é com parceiros é tarde. Esse negócio de parceiros deve acabar.\n",
      "10. Aguardando o recebimento do produto. Foi entregue parcialmente restando alguns itens.\n",
      "\n",
      "====================\n",
      "CATEGORY: Other\n",
      "====================\n",
      "1. Não recebi meu produto já foi cobrado no cartaxo\n",
      "2. Produto não chegou ainda \n",
      "3. Não recebi o produto ainda.\n",
      "4. Ainda não recebi então não posso avaliar \n",
      "5. so de não precisar torcer pano otimo\n",
      "6. Ainda não recebi o produto \n",
      "7. A mercadoria chegou até antes da data prevista !\n",
      "8. Gostaria de receber o produto. Ainda não recebi.\n",
      "9. AINDA NÃO RECEBI O PRODUTO\n",
      "10. Meu produto não chegou\n",
      "\n",
      "====================\n",
      "CATEGORY: Poor Customer Service\n",
      "====================\n",
      "1. Não considero que recebi o produto exatamente como imaginei, pois na imagem ilustrativa constava uma capa para a garrafa térmica, a qual não acompanhou o produto, não comprei em outra loja mais barata\n",
      "2. A loja deveria prestar mais atenção nos ítens do pedido antes de enviar ao cliente.\n",
      "3. Chegou junto com o pedido principal, mesmo sendo de outra loja, porém o celular chegou com lacre da embalagem violado.\n",
      "4. Cancelei toda minha compra e até o presente momento ninguém entrou em contato. Que atendimento péssimo ao cliente. Cancelei 30 min depois e os canais de atendimento são horríveis. Ninguém resolve \n",
      "5. A informação de que o produto chegou não procede. A previsão de que seria entregue dia 16/03, porém o produto apesar de já ter a NF emitida não foi para a transportadora.\n",
      "Aguardo retorno.\n",
      "6. comprei a maquina com 2 bastidores extras, entretanto veio faltando o bastidor de bolso, fiz diversos contatos com a loja e email porem sem retorno. Aguardo contato e resolução do problema\n",
      "7. O produto não foi entregue até hoje, e não obtive nenhuma resposta da loja mesmo depois de enviar vários e-mail.\n",
      "8. Comprei três produtos na targaryen e não recebi nenhum. Todos através das lojas lannister..\n",
      "9. Vendedor não atualizava a situação da mercadoria o que me gerou insegurança. O status até a entrega era: aguardando emissão de nota fiscal \n",
      "10. Produto não entregue e loja não deu satisfação após contato.\n",
      "\n",
      "====================\n",
      "CATEGORY: Problems with Carrier / Shipping\n",
      "====================\n",
      "1. Acredito que a entrega poderia ser no dia combinado\n",
      "2. A previsão para entrega seria para até 12/12/17, e até o momento não foi entregue!\n",
      "3. mais de 30 dias para entregar um produto pequeno !! É demais !\n",
      "4. Paguei o frete mas não recebi em casa tive que busca nos correios ,longe da minha casa\n",
      "5. Comprei uma cadeira sem braço. Motivo. Para caber em baixo da mesa. Me entregaram com braço.\n",
      "6. Não entregaram e até hj não estornaram no meu cartão.\n",
      "7. desde que começara a trabalhar com parceiros a entrega ficou ridícula\n",
      "8. Paguei $48,00 reais de frete e acabei tendo que buscar o pedido no Centro de Distribuição dos Correios, porém a loja nada tem a ver com o mal serviço prestado pela empresa contrata para entrega.\n",
      "9. Comprei facas de presente prometi. Minha esposa nao pude entregar.\n",
      "10. Não comprem nesse site eles não entregam.\n",
      "\n",
      "====================\n",
      "CATEGORY: Product Not Received\n",
      "====================\n",
      "1. Nao recebi o meu produto. Mandaram um outro produto em nome de Vinicius Silva pela loja Techno Gadget (Mega TG) uma barra de exercicios. Gostaria de saber onde esta o produto que comprei\n",
      "2. Nao recebi o produto ainda. Preciso com urgência. Estou aguardando.\n",
      "3. nao recebimento\n",
      "4. Comprei 3 cadeiras, todas vieram faltando peças. nao consegui solicitar troca pelo site, dá erro de conexão. Também não consegui por telefone. soliciitei por e-mail e nao recebi retorno\n",
      "Insatisfeito \n",
      "5. nao recebi o relogio de parede\n",
      "6. Ainda nao recebi\n",
      "7. NAO GOSTE DESSA COMPRA. RECEBI O ESTOJO, BEM DEPOIS AANCHEIRA E AINDA NAO RECEBI A MOCHILA. TRANSTORNOTERRIVEL!\n",
      "8. Nao recebi o lustre de bola o quadro foi entregue.\n",
      "9. nao recebi o produto que ja paguei ! nao recomendo a compra nesse site. \n",
      "10. Nao recebi o produto\n",
      "\n",
      "====================\n",
      "CATEGORY: Return & Refund Issues\n",
      "====================\n",
      "1. NAO RECEBI O PRODUTO E NEM O DINHEIRO DE VOLTA.\n",
      "PRECISO DE UMA SOLUÇÃO URGENTE SE NÃO TEREI QUE IR AO PROCON\n",
      "2. Quero cancelar essa compra\n",
      "3. CAROS,\n",
      "\n",
      "Solicitei o cancelamento deste pedido no mesmo dia em que a Nota Fiscal foi emitida. Liguei no fornecedor informado na NF e cancelei o envio da mercadoria. Aguardo forma de estorno Americana\n",
      "4. Comprei e paguei por uma cadeira giratória com braço e recebi uma cadeira sem braço! Quero devolver o produto, não supre a minha necessidade \n",
      "5. Não recebi o item que já contava como cancelado no momento que consultava meus pedidos.\n",
      "Não obtive nenhuma resposta às mensagens enviadas\n",
      "6. produto vendido sem estoque, cancelei a venda, solicitei a devolução e mesmo assim mesmo \n",
      "7. nao recebi gostaria de estar recebendo o dinheiro de volta\n",
      "8. Não recebi meu produto e nem se quer uma justificativa do atraso.\n",
      "Quero meu dinheiro de volta o mais rápido possível.\n",
      "9. Relógio veio com defeito na pulseira na cor , não tinha como usar. Liguei pra cancelar e devolver o produto.\n",
      "10. Quero a troca do produto por favor\n",
      "\n",
      "====================\n",
      "CATEGORY: Wrong Item Sent\n",
      "====================\n",
      "1. Não posso avaliar por algum que não recebi, gostaria de saber o por Que ainda não recebi minha cortina e estão dizendo que já recebi.\n",
      "Obs: tive que marca tudo não em cima pq a primeira resposta é não\n",
      "2. quero devolver o produto, porque não supre as minhas necessidades! tenho metal no corpo e nao posso usar.\n",
      "3. O produto em exposição, não é como imaginamos , entregaram na data correta, devidamente embalado, mas se eu tivesse a oportunidade de ver o radio relógio físico, não compraria. deixou a desejar infeli\n",
      "4. Logo em seguida que eu fiz o pedido, que verifiquei que teria compro o produto errado solicitei o cancelamento, o qual nao foi realizado, Eu expliquei o motivo falei da troca por outro produto \n",
      "5. Produto veio aberto e não está funcionando corretamente.\n",
      "Dinheiro desperdiçado, já que minha esposa que recebeu mas jogou as embalagens fora. Esses tipos de produtos não compro mais no baratheon.\n",
      "6. comprei um conjunto de skate infantil masculino como na descrição. O skate veio de uma cor, o capacete totalmente diferente sem contar que é de isopor. E o kit de proteção veio rosa.\n",
      "7. Produto de péssima qualidade. Além de vir errado. Pedi na cor preta e veio branca. Pedi 2,00x 2,20 e veio 2,00 x 2,60. Veio com ilhós soltos. O blackout todo.amassado. quero meu dinheiro de volta. \n",
      "8. nao recomendo pq nem se quer me perguntaram a cor dos ursinhos na hora da comprar cliquei no rosa e veio azul .e agora dinheiro posto fora pois estou gravida de menina\n",
      "9. COMPREI 02 JOGOS DE LENCOIS DE CETIM E UMA COLCHA, MAS ATÉ AGORA SÓ RECEBI O JOGO DE LENCOL COR COBRE. O QUE HOUVE????\n",
      "10. É bem bonita e bem acabada mais pena q veio a almofadinha d uma cor e a casinha de outra 😢\n",
      "Por esse motivo nao vou enche de estrelas 😭\n",
      "\n",
      "--- Process Finished ---\n"
     ]
    }
   ],
   "source": [
    "import pandas as pd\n",
    "\n",
    "# --- Configuration ---\n",
    "REVIEWS_FILE_PATH = \"E-commerce/order_reviews_dataset.csv\"\n",
    "\n",
    "complaint_keywords = {\n",
    "    # Focuses only on specific terms for lateness.\n",
    "    \"Late Delivery\": [\n",
    "        \"atraso\", \"atrasado\", \"demorou\", \"demora\", \"lento\", \"extraviado\"\n",
    "    ],\n",
    "    # Uses very specific phrases for non-receipt.\n",
    "    \"Product Not Received\": [\n",
    "        \"não recebi\", \"nao recebi\", \"não entregue\", \"nao entregue\", \"nunca chegou\", \"consta como entregue\", \"caixa vazia\"\n",
    "    ],\n",
    "    # Focuses on words describing a broken or non-functional product.\n",
    "    \"Bad Product Quality / Defective\": [\n",
    "        \"defeito\", \"quebrado\", \"quebrada\", \"nao funciona\", \"avariado\", \"estragado\", \"falso\", \"mal acabado\", \"baixa qualidade\"\n",
    "    ],\n",
    "    # Uses phrases that clearly indicate the wrong item was sent.\n",
    "    \"Wrong Item Sent\": [\n",
    "        \"veio errado\", \"item errado\", \"cor errada\", \"modelo errado\", \"veio outro\", \"produto trocado\"\n",
    "    ],\n",
    "    # Focuses on words related to quantity and incomplete orders.\n",
    "    \"Missing Items / Partial Delivery\": [\n",
    "        \"faltando\", \"incompleto\", \"só recebi um\", \"parcial\", \"faltou\", \"recebi a menos\"\n",
    "    ],\n",
    "    # Uses keywords specific to the return/refund process.\n",
    "    \"Return & Refund Issues\": [\n",
    "        \"devolver\", \"devolução\", \"troca\", \"dinheiro de volta\", \"cancelar\", \"reembolso\", \"estorno\"\n",
    "    ],\n",
    "    # Focuses on complaints about the seller or lack of communication.\n",
    "    \"Poor Customer Service\": [\n",
    "        \"sem resposta\", \"ninguem responde\", \"pessimo atendimento\", \"pós venda\", \"mau vendedor\"\n",
    "    ],\n",
    "    # Focuses on the description/advertisement vs. the real product.\n",
    "    \"Different from Expectations\": [\n",
    "        \"propaganda enganosa\", \"nao e como na foto\", \"descrição errada\", \"não corresponde\"\n",
    "    ]\n",
    "}\n",
    "# The categorization function\n",
    "def categorize_complaint(comment):\n",
    "    if not isinstance(comment, str):\n",
    "        return \"Other\"\n",
    "    \n",
    "    comment_lower = comment.lower()\n",
    "    scores = {category: 0 for category in complaint_keywords}\n",
    "    \n",
    "    for category, keywords in complaint_keywords.items():\n",
    "        for keyword in keywords:\n",
    "            if keyword in comment_lower:\n",
    "                scores[category] += 1\n",
    "    \n",
    "    max_score = max(scores.values())\n",
    "    \n",
    "    if max_score == 0:\n",
    "        return \"Other\"\n",
    "    \n",
    "    # Find all categories that have the max score\n",
    "    best_categories = [category for category, score in scores.items() if score == max_score]\n",
    "    \n",
    "    # Return the first one in case of a tie\n",
    "    return best_categories[0]\n",
    "\n",
    "# --- Main Script ---\n",
    "if __name__ == \"__main__\":\n",
    "    print(\"--- Starting Category Debugging Process ---\")\n",
    "    \n",
    "    print(f\"\\n[1/4] Loading reviews from '{REVIEWS_FILE_PATH}'...\")\n",
    "    reviews_df = pd.read_csv(REVIEWS_FILE_PATH)\n",
    "    \n",
    "    print(\"\\n[2/4] Filtering for negative reviews with comments...\")\n",
    "    negative_reviews = reviews_df[reviews_df['review_score'] <= 3].dropna(subset=['review_comment_message']).copy()\n",
    "    \n",
    "    print(\"\\n[3/4] Categorizing reviews...\")\n",
    "    negative_reviews['complaint_category'] = negative_reviews['review_comment_message'].apply(categorize_complaint)\n",
    "    \n",
    "    print(\"\\n[4/4] Generating samples for each category...\")\n",
    "    \n",
    "    # Get all categories that were assigned, including 'Other'\n",
    "    all_categories = negative_reviews['complaint_category'].unique()\n",
    "    \n",
    "    print(\"\\n--- SAMPLE REVIEWS PER CATEGORY ---\")\n",
    "    \n",
    "    for category in sorted(all_categories):\n",
    "        print(\"\\n\" + \"=\"*20)\n",
    "        print(f\"CATEGORY: {category}\")\n",
    "        print(\"=\"*20)\n",
    "        \n",
    "        category_df = negative_reviews[negative_reviews['complaint_category'] == category]\n",
    "        \n",
    "        # Determine the sample size (up to 10)\n",
    "        sample_size = min(10, len(category_df))\n",
    "        \n",
    "        # Get a random sample of comments\n",
    "        sample_comments = category_df['review_comment_message'].sample(n=sample_size, random_state=42).tolist()\n",
    "        \n",
    "        # Print the numbered list of samples\n",
    "        for i, comment in enumerate(sample_comments, 1):\n",
    "            print(f\"{i}. {comment}\")\n",
    "            \n",
    "    print(\"\\n--- Process Finished ---\")"
   ]
  }
 ],
 "metadata": {
  "kernelspec": {
   "display_name": "Python 3",
   "language": "python",
   "name": "python3"
  },
  "language_info": {
   "codemirror_mode": {
    "name": "ipython",
    "version": 3
   },
   "file_extension": ".py",
   "mimetype": "text/x-python",
   "name": "python",
   "nbconvert_exporter": "python",
   "pygments_lexer": "ipython3",
   "version": "3.11.9"
  }
 },
 "nbformat": 4,
 "nbformat_minor": 5
}
